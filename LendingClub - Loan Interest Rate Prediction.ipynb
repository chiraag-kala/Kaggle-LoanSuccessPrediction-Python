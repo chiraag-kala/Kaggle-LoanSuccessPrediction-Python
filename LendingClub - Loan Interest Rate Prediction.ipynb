{
 "cells": [
  {
   "cell_type": "markdown",
   "metadata": {},
   "source": [
    "### Importing the Data"
   ]
  },
  {
   "cell_type": "code",
   "execution_count": 3,
   "metadata": {},
   "outputs": [],
   "source": [
    "import pandas as pd\n",
    "import numpy as np\n",
    "import matplotlib as plt \n",
    "import seaborn as sns\n",
    "import warnings\n",
    "warnings.filterwarnings(\"ignore\")"
   ]
  },
  {
   "cell_type": "code",
   "execution_count": 4,
   "metadata": {},
   "outputs": [],
   "source": [
    "loan_data = pd.read_csv('Data for Cleaning & Modeling.csv',parse_dates=['X15', 'X23'])"
   ]
  },
  {
   "cell_type": "code",
   "execution_count": 5,
   "metadata": {},
   "outputs": [
    {
     "data": {
      "text/html": [
       "<div>\n",
       "<style scoped>\n",
       "    .dataframe tbody tr th:only-of-type {\n",
       "        vertical-align: middle;\n",
       "    }\n",
       "\n",
       "    .dataframe tbody tr th {\n",
       "        vertical-align: top;\n",
       "    }\n",
       "\n",
       "    .dataframe thead th {\n",
       "        text-align: right;\n",
       "    }\n",
       "</style>\n",
       "<table border=\"1\" class=\"dataframe\">\n",
       "  <thead>\n",
       "    <tr style=\"text-align: right;\">\n",
       "      <th></th>\n",
       "      <th>X1</th>\n",
       "      <th>X2</th>\n",
       "      <th>X3</th>\n",
       "      <th>X4</th>\n",
       "      <th>X5</th>\n",
       "      <th>X6</th>\n",
       "      <th>X7</th>\n",
       "      <th>X8</th>\n",
       "      <th>X9</th>\n",
       "      <th>X10</th>\n",
       "      <th>...</th>\n",
       "      <th>X23</th>\n",
       "      <th>X24</th>\n",
       "      <th>X25</th>\n",
       "      <th>X26</th>\n",
       "      <th>X27</th>\n",
       "      <th>X28</th>\n",
       "      <th>X29</th>\n",
       "      <th>X30</th>\n",
       "      <th>X31</th>\n",
       "      <th>X32</th>\n",
       "    </tr>\n",
       "  </thead>\n",
       "  <tbody>\n",
       "    <tr>\n",
       "      <th>0</th>\n",
       "      <td>11.89%</td>\n",
       "      <td>54734.0</td>\n",
       "      <td>80364.0</td>\n",
       "      <td>$25,000</td>\n",
       "      <td>$25,000</td>\n",
       "      <td>$19,080</td>\n",
       "      <td>36 months</td>\n",
       "      <td>B</td>\n",
       "      <td>B4</td>\n",
       "      <td>NaN</td>\n",
       "      <td>...</td>\n",
       "      <td>1994-02-01</td>\n",
       "      <td>0.0</td>\n",
       "      <td>NaN</td>\n",
       "      <td>NaN</td>\n",
       "      <td>10.0</td>\n",
       "      <td>0.0</td>\n",
       "      <td>28854.0</td>\n",
       "      <td>52.10%</td>\n",
       "      <td>42.0</td>\n",
       "      <td>f</td>\n",
       "    </tr>\n",
       "    <tr>\n",
       "      <th>1</th>\n",
       "      <td>10.71%</td>\n",
       "      <td>55742.0</td>\n",
       "      <td>114426.0</td>\n",
       "      <td>$7,000</td>\n",
       "      <td>$7,000</td>\n",
       "      <td>$673</td>\n",
       "      <td>36 months</td>\n",
       "      <td>B</td>\n",
       "      <td>B5</td>\n",
       "      <td>CNN</td>\n",
       "      <td>...</td>\n",
       "      <td>2000-10-01</td>\n",
       "      <td>0.0</td>\n",
       "      <td>NaN</td>\n",
       "      <td>NaN</td>\n",
       "      <td>7.0</td>\n",
       "      <td>0.0</td>\n",
       "      <td>33623.0</td>\n",
       "      <td>76.70%</td>\n",
       "      <td>7.0</td>\n",
       "      <td>f</td>\n",
       "    </tr>\n",
       "    <tr>\n",
       "      <th>2</th>\n",
       "      <td>16.99%</td>\n",
       "      <td>57167.0</td>\n",
       "      <td>137225.0</td>\n",
       "      <td>$25,000</td>\n",
       "      <td>$25,000</td>\n",
       "      <td>$24,725</td>\n",
       "      <td>36 months</td>\n",
       "      <td>D</td>\n",
       "      <td>D3</td>\n",
       "      <td>Web Programmer</td>\n",
       "      <td>...</td>\n",
       "      <td>2000-06-01</td>\n",
       "      <td>0.0</td>\n",
       "      <td>41.0</td>\n",
       "      <td>NaN</td>\n",
       "      <td>10.0</td>\n",
       "      <td>0.0</td>\n",
       "      <td>19878.0</td>\n",
       "      <td>66.30%</td>\n",
       "      <td>17.0</td>\n",
       "      <td>f</td>\n",
       "    </tr>\n",
       "    <tr>\n",
       "      <th>3</th>\n",
       "      <td>13.11%</td>\n",
       "      <td>57245.0</td>\n",
       "      <td>138150.0</td>\n",
       "      <td>$1,200</td>\n",
       "      <td>$1,200</td>\n",
       "      <td>$1,200</td>\n",
       "      <td>36 months</td>\n",
       "      <td>C</td>\n",
       "      <td>C2</td>\n",
       "      <td>city of beaumont texas</td>\n",
       "      <td>...</td>\n",
       "      <td>1985-01-01</td>\n",
       "      <td>0.0</td>\n",
       "      <td>64.0</td>\n",
       "      <td>NaN</td>\n",
       "      <td>5.0</td>\n",
       "      <td>0.0</td>\n",
       "      <td>2584.0</td>\n",
       "      <td>40.40%</td>\n",
       "      <td>31.0</td>\n",
       "      <td>f</td>\n",
       "    </tr>\n",
       "    <tr>\n",
       "      <th>4</th>\n",
       "      <td>13.57%</td>\n",
       "      <td>57416.0</td>\n",
       "      <td>139635.0</td>\n",
       "      <td>$10,800</td>\n",
       "      <td>$10,800</td>\n",
       "      <td>$10,692</td>\n",
       "      <td>36 months</td>\n",
       "      <td>C</td>\n",
       "      <td>C3</td>\n",
       "      <td>State Farm Insurance</td>\n",
       "      <td>...</td>\n",
       "      <td>1996-12-01</td>\n",
       "      <td>1.0</td>\n",
       "      <td>58.0</td>\n",
       "      <td>NaN</td>\n",
       "      <td>14.0</td>\n",
       "      <td>0.0</td>\n",
       "      <td>3511.0</td>\n",
       "      <td>25.60%</td>\n",
       "      <td>40.0</td>\n",
       "      <td>f</td>\n",
       "    </tr>\n",
       "  </tbody>\n",
       "</table>\n",
       "<p>5 rows × 32 columns</p>\n",
       "</div>"
      ],
      "text/plain": [
       "       X1       X2        X3        X4        X5        X6          X7 X8  X9  \\\n",
       "0  11.89%  54734.0   80364.0  $25,000   $25,000   $19,080    36 months  B  B4   \n",
       "1  10.71%  55742.0  114426.0   $7,000    $7,000      $673    36 months  B  B5   \n",
       "2  16.99%  57167.0  137225.0  $25,000   $25,000   $24,725    36 months  D  D3   \n",
       "3  13.11%  57245.0  138150.0   $1,200    $1,200    $1,200    36 months  C  C2   \n",
       "4  13.57%  57416.0  139635.0  $10,800   $10,800   $10,692    36 months  C  C3   \n",
       "\n",
       "                      X10 ...        X23  X24   X25 X26   X27  X28      X29  \\\n",
       "0                     NaN ... 1994-02-01  0.0   NaN NaN  10.0  0.0  28854.0   \n",
       "1                     CNN ... 2000-10-01  0.0   NaN NaN   7.0  0.0  33623.0   \n",
       "2          Web Programmer ... 2000-06-01  0.0  41.0 NaN  10.0  0.0  19878.0   \n",
       "3  city of beaumont texas ... 1985-01-01  0.0  64.0 NaN   5.0  0.0   2584.0   \n",
       "4    State Farm Insurance ... 1996-12-01  1.0  58.0 NaN  14.0  0.0   3511.0   \n",
       "\n",
       "      X30   X31 X32  \n",
       "0  52.10%  42.0   f  \n",
       "1  76.70%   7.0   f  \n",
       "2  66.30%  17.0   f  \n",
       "3  40.40%  31.0   f  \n",
       "4  25.60%  40.0   f  \n",
       "\n",
       "[5 rows x 32 columns]"
      ]
     },
     "execution_count": 5,
     "metadata": {},
     "output_type": "execute_result"
    }
   ],
   "source": [
    "loan_data.head()"
   ]
  },
  {
   "cell_type": "code",
   "execution_count": 6,
   "metadata": {},
   "outputs": [
    {
     "name": "stdout",
     "output_type": "stream",
     "text": [
      "<class 'pandas.core.frame.DataFrame'>\n",
      "RangeIndex: 400000 entries, 0 to 399999\n",
      "Data columns (total 32 columns):\n",
      "X1     338990 non-null object\n",
      "X2     399999 non-null float64\n",
      "X3     399999 non-null float64\n",
      "X4     399999 non-null object\n",
      "X5     399999 non-null object\n",
      "X6     399999 non-null object\n",
      "X7     399999 non-null object\n",
      "X8     338730 non-null object\n",
      "X9     338730 non-null object\n",
      "X10    376014 non-null object\n",
      "X11    382462 non-null object\n",
      "X12    338639 non-null object\n",
      "X13    338972 non-null float64\n",
      "X14    399999 non-null object\n",
      "X15    399999 non-null datetime64[ns]\n",
      "X16    123560 non-null object\n",
      "X17    399999 non-null object\n",
      "X18    399981 non-null object\n",
      "X19    399999 non-null object\n",
      "X20    399999 non-null object\n",
      "X21    399999 non-null float64\n",
      "X22    399999 non-null float64\n",
      "X23    399999 non-null datetime64[ns]\n",
      "X24    399999 non-null float64\n",
      "X25    181198 non-null float64\n",
      "X26    51155 non-null float64\n",
      "X27    399999 non-null float64\n",
      "X28    399999 non-null float64\n",
      "X29    399999 non-null float64\n",
      "X30    399733 non-null object\n",
      "X31    399999 non-null float64\n",
      "X32    399999 non-null object\n",
      "dtypes: datetime64[ns](2), float64(12), object(18)\n",
      "memory usage: 97.7+ MB\n"
     ]
    }
   ],
   "source": [
    "loan_data.info()"
   ]
  },
  {
   "cell_type": "code",
   "execution_count": 7,
   "metadata": {},
   "outputs": [
    {
     "data": {
      "text/plain": [
       "X1     0.152525\n",
       "X2     0.000003\n",
       "X3     0.000003\n",
       "X4     0.000003\n",
       "X5     0.000003\n",
       "X6     0.000003\n",
       "X7     0.000003\n",
       "X8     0.153175\n",
       "X9     0.153175\n",
       "X10    0.059965\n",
       "X11    0.043845\n",
       "X12    0.153402\n",
       "X13    0.152570\n",
       "X14    0.000003\n",
       "X15    0.000003\n",
       "X16    0.691100\n",
       "X17    0.000003\n",
       "X18    0.000048\n",
       "X19    0.000003\n",
       "X20    0.000003\n",
       "X21    0.000003\n",
       "X22    0.000003\n",
       "X23    0.000003\n",
       "X24    0.000003\n",
       "X25    0.547005\n",
       "X26    0.872112\n",
       "X27    0.000003\n",
       "X28    0.000003\n",
       "X29    0.000003\n",
       "X30    0.000668\n",
       "X31    0.000003\n",
       "X32    0.000003\n",
       "dtype: float64"
      ]
     },
     "execution_count": 7,
     "metadata": {},
     "output_type": "execute_result"
    }
   ],
   "source": [
    "loan_data.isnull().sum()/len(loan_data)"
   ]
  },
  {
   "cell_type": "markdown",
   "metadata": {},
   "source": [
    "### Cleaning the Data and Getting the Train Set"
   ]
  },
  {
   "cell_type": "code",
   "execution_count": 8,
   "metadata": {},
   "outputs": [],
   "source": [
    "def null_check(col_name):\n",
    "    print(loan_data[col_name].isnull().sum())"
   ]
  },
  {
   "cell_type": "code",
   "execution_count": 9,
   "metadata": {
    "scrolled": true
   },
   "outputs": [],
   "source": [
    "#Dropping the one row that has many nulls \n",
    "loan_data.drop([364111],inplace=True)"
   ]
  },
  {
   "cell_type": "code",
   "execution_count": 10,
   "metadata": {},
   "outputs": [
    {
     "data": {
      "text/plain": [
       "0    11.89\n",
       "1    10.71\n",
       "2    16.99\n",
       "3    13.11\n",
       "4    13.57\n",
       "5    19.05\n",
       "6    10.08\n",
       "7    14.26\n",
       "8     7.88\n",
       "9    14.96\n",
       "Name: X1, dtype: float64"
      ]
     },
     "execution_count": 10,
     "metadata": {},
     "output_type": "execute_result"
    }
   ],
   "source": [
    "#X1 - Interest Rate - remove % sign and convert to float\n",
    "\n",
    "loan_data.X1 = loan_data.X1.str.replace('%','').astype('float64')\n",
    "loan_data.X1[0:10]"
   ]
  },
  {
   "cell_type": "code",
   "execution_count": 11,
   "metadata": {},
   "outputs": [],
   "source": [
    "#X2 and X3 - Unique IDs - drop columns\n",
    "\n",
    "loan_data.drop(['X2', 'X3'], axis=1, inplace=True) "
   ]
  },
  {
   "cell_type": "code",
   "execution_count": 12,
   "metadata": {},
   "outputs": [],
   "source": [
    "#X4, X5, X6 - Loan Amounts - strip $ sign and convert to float\n",
    "\n",
    "loan_data['X4'] = loan_data['X4'].str.strip('$').str.replace(',','').astype('float64')\n",
    "loan_data['X5'] = loan_data['X5'].str.strip('$').str.replace(',','').astype('float64')\n",
    "loan_data['X6'] = loan_data['X6'].str.strip('$').str.replace(',','').astype('float64')"
   ]
  },
  {
   "cell_type": "code",
   "execution_count": 13,
   "metadata": {},
   "outputs": [],
   "source": [
    "#X7 - number of payments 36 or 60 months - encode to 0, 1\n",
    "loan_data['X7'] = loan_data['X7'].str.strip()\n",
    "\n",
    "from sklearn.preprocessing import LabelEncoder\n",
    "le = LabelEncoder()\n",
    "le.fit(loan_data['X7'].unique())\n",
    "values = le.transform(loan_data['X7'].values)\n",
    "loan_data['X7'] = values"
   ]
  },
  {
   "cell_type": "code",
   "execution_count": 14,
   "metadata": {},
   "outputs": [
    {
     "data": {
      "text/plain": [
       "0    292369\n",
       "1    107630\n",
       "Name: X7, dtype: int64"
      ]
     },
     "execution_count": 14,
     "metadata": {},
     "output_type": "execute_result"
    }
   ],
   "source": [
    "loan_data['X7'].value_counts()"
   ]
  },
  {
   "cell_type": "code",
   "execution_count": 15,
   "metadata": {},
   "outputs": [
    {
     "data": {
      "text/plain": [
       "B    101668\n",
       "C     90071\n",
       "D     55621\n",
       "A     53707\n",
       "E     25518\n",
       "F      9784\n",
       "G      2361\n",
       "Name: X8, dtype: int64"
      ]
     },
     "execution_count": 15,
     "metadata": {},
     "output_type": "execute_result"
    }
   ],
   "source": [
    "loan_data['X8'].value_counts()"
   ]
  },
  {
   "cell_type": "code",
   "execution_count": 16,
   "metadata": {},
   "outputs": [
    {
     "data": {
      "text/plain": [
       "B    119983\n",
       "C    106288\n",
       "D     65816\n",
       "A     63507\n",
       "E     30060\n",
       "F     11541\n",
       "G      2804\n",
       "Name: X8, dtype: int64"
      ]
     },
     "execution_count": 16,
     "metadata": {},
     "output_type": "execute_result"
    }
   ],
   "source": [
    "#X8 - Filling Missing Values\n",
    "loan_data['X8'] = loan_data['X8'].fillna(method='bfill')\n",
    "loan_data['X8'].value_counts()"
   ]
  },
  {
   "cell_type": "code",
   "execution_count": 17,
   "metadata": {},
   "outputs": [
    {
     "data": {
      "text/plain": [
       "1    119983\n",
       "2    106288\n",
       "3     65816\n",
       "0     63507\n",
       "4     30060\n",
       "5     11541\n",
       "6      2804\n",
       "Name: X8, dtype: int64"
      ]
     },
     "execution_count": 17,
     "metadata": {},
     "output_type": "execute_result"
    }
   ],
   "source": [
    "le = LabelEncoder()\n",
    "le.fit(loan_data['X8'].unique())\n",
    "values = le.transform(loan_data['X8'].values)\n",
    "loan_data['X8'] = values\n",
    "loan_data['X8'].value_counts()"
   ]
  },
  {
   "cell_type": "code",
   "execution_count": 18,
   "metadata": {},
   "outputs": [
    {
     "data": {
      "text/plain": [
       "7     28301\n",
       "8     26786\n",
       "6     23375\n",
       "10    22752\n",
       "11    22691\n",
       "9     21654\n",
       "12    21545\n",
       "13    20325\n",
       "5     19867\n",
       "14    18975\n",
       "4     18333\n",
       "15    16450\n",
       "3     16353\n",
       "16    14817\n",
       "17    12726\n",
       "18    11946\n",
       "2     10728\n",
       "19     9877\n",
       "1      9095\n",
       "0      8998\n",
       "20     7545\n",
       "21     7341\n",
       "22     5826\n",
       "23     5036\n",
       "24     4312\n",
       "25     3407\n",
       "26     2584\n",
       "27     2366\n",
       "28     1810\n",
       "29     1374\n",
       "30      944\n",
       "31      698\n",
       "32      523\n",
       "33      349\n",
       "34      290\n",
       "Name: X9, dtype: int64"
      ]
     },
     "execution_count": 18,
     "metadata": {},
     "output_type": "execute_result"
    }
   ],
   "source": [
    "#X9 Loan Sub Categories - Filling Missing Values and Encoding \n",
    "loan_data['X9'] = loan_data['X9'].fillna(method='bfill')\n",
    "\n",
    "le = LabelEncoder()\n",
    "le.fit(loan_data['X9'].unique())\n",
    "values = le.transform(loan_data['X9'].values)\n",
    "loan_data['X9'] = values\n",
    "loan_data['X9'].value_counts()"
   ]
  },
  {
   "cell_type": "code",
   "execution_count": 19,
   "metadata": {},
   "outputs": [],
   "source": [
    "loan_data['X10'] = loan_data['X10'].str.lower().str.strip()\n",
    "loan_data['X10'] = loan_data['X10'].fillna(method='bfill')"
   ]
  },
  {
   "cell_type": "code",
   "execution_count": 20,
   "metadata": {},
   "outputs": [],
   "source": [
    "loan_data.loc[loan_data['X10'].str.contains('manager'),'X10'] = 'manager'"
   ]
  },
  {
   "cell_type": "code",
   "execution_count": 21,
   "metadata": {},
   "outputs": [],
   "source": [
    "loan_data.loc[loan_data['X10'].str.contains('president'),'X10'] = 'president'\n",
    "loan_data.loc[loan_data['X10'].str.contains('vp'),'X10'] = 'president'\n",
    "loan_data.loc[loan_data['X10'].str.contains('analyst'),'X10'] = 'analyst'\n",
    "loan_data.loc[loan_data['X10'].str.contains('driver'),'X10'] = 'driver'\n",
    "loan_data.loc[loan_data['X10'].str.contains('engineer'),'X10'] = 'engineer'\n",
    "loan_data.loc[loan_data['X10'].str.contains('assistant'),'X10'] = 'assistant'\n"
   ]
  },
  {
   "cell_type": "code",
   "execution_count": 22,
   "metadata": {},
   "outputs": [],
   "source": [
    "x = list(loan_data['X10'].value_counts()[1:30].index)"
   ]
  },
  {
   "cell_type": "code",
   "execution_count": 23,
   "metadata": {},
   "outputs": [],
   "source": [
    "loan_data.loc[~loan_data['X10'].isin(x),'X10'] = 'other'\n"
   ]
  },
  {
   "cell_type": "code",
   "execution_count": 24,
   "metadata": {},
   "outputs": [
    {
     "data": {
      "text/plain": [
       "15    340868\n",
       "11      7666\n",
       "2       6669\n",
       "1       6540\n",
       "25      5599\n",
       "9       4985\n",
       "19      4591\n",
       "20      2768\n",
       "24      2474\n",
       "21      2069\n",
       "22      2059\n",
       "16      1755\n",
       "8       1107\n",
       "27       982\n",
       "18       977\n",
       "4        794\n",
       "0        781\n",
       "26       767\n",
       "14       726\n",
       "13       691\n",
       "5        655\n",
       "17       530\n",
       "7        519\n",
       "29       519\n",
       "23       512\n",
       "10       497\n",
       "28       488\n",
       "3        479\n",
       "12       471\n",
       "6        461\n",
       "Name: X10, dtype: int64"
      ]
     },
     "execution_count": 24,
     "metadata": {},
     "output_type": "execute_result"
    }
   ],
   "source": [
    "le = LabelEncoder()\n",
    "le.fit(loan_data['X10'].unique())\n",
    "values = le.transform(loan_data['X10'].values)\n",
    "loan_data['X10'] = values\n",
    "loan_data['X10'].value_counts()"
   ]
  },
  {
   "cell_type": "code",
   "execution_count": 25,
   "metadata": {},
   "outputs": [
    {
     "data": {
      "text/plain": [
       "1     134220\n",
       "2      37032\n",
       "3      32812\n",
       "10     31960\n",
       "5      28525\n",
       "0      26421\n",
       "4      25087\n",
       "6      24055\n",
       "7      23902\n",
       "8      20011\n",
       "9      15974\n",
       "Name: X11, dtype: int64"
      ]
     },
     "execution_count": 25,
     "metadata": {},
     "output_type": "execute_result"
    }
   ],
   "source": [
    "loan_data['X11'] = loan_data['X11'].fillna(method='bfill')\n",
    "\n",
    "le = LabelEncoder()\n",
    "le.fit(loan_data['X11'].unique())\n",
    "values = le.transform(loan_data['X11'].values)\n",
    "loan_data['X11'] = values\n",
    "loan_data['X11'].value_counts()"
   ]
  },
  {
   "cell_type": "code",
   "execution_count": 26,
   "metadata": {},
   "outputs": [],
   "source": [
    "loan_data['X12'] = loan_data['X12'].fillna(method='ffill')\n",
    "loan_data['X12'] = loan_data['X12'].str.replace('NONE','OTHER')\n",
    "loan_data['X12'] = loan_data['X12'].str.replace('ANY','OTHER')"
   ]
  },
  {
   "cell_type": "code",
   "execution_count": 27,
   "metadata": {},
   "outputs": [
    {
     "data": {
      "text/plain": [
       "0    203074\n",
       "3    161780\n",
       "2     34950\n",
       "1       195\n",
       "Name: X12, dtype: int64"
      ]
     },
     "execution_count": 27,
     "metadata": {},
     "output_type": "execute_result"
    }
   ],
   "source": [
    "le = LabelEncoder()\n",
    "le.fit(loan_data['X12'].unique())\n",
    "values = le.transform(loan_data['X12'].values)\n",
    "loan_data['X12'] = values\n",
    "loan_data['X12'].value_counts()"
   ]
  },
  {
   "cell_type": "code",
   "execution_count": 28,
   "metadata": {},
   "outputs": [
    {
     "data": {
      "text/plain": [
       "count     338972.0\n",
       "mean       73160.0\n",
       "std        55868.0\n",
       "min         3000.0\n",
       "25%        45000.0\n",
       "50%        63000.0\n",
       "75%        88200.0\n",
       "max      7500000.0\n",
       "Name: X13, dtype: float64"
      ]
     },
     "execution_count": 28,
     "metadata": {},
     "output_type": "execute_result"
    }
   ],
   "source": [
    "#X13 - Annual Income of Borrower \n",
    "round(loan_data['X13'].describe(),0)"
   ]
  },
  {
   "cell_type": "code",
   "execution_count": 29,
   "metadata": {},
   "outputs": [],
   "source": [
    "loan_data['X13'] = loan_data['X13'].fillna(loan_data['X13'].median())"
   ]
  },
  {
   "cell_type": "code",
   "execution_count": 30,
   "metadata": {
    "scrolled": true
   },
   "outputs": [
    {
     "data": {
      "text/plain": [
       "VERIFIED - income           149686\n",
       "not verified                127220\n",
       "VERIFIED - income source    123093\n",
       "Name: X14, dtype: int64"
      ]
     },
     "execution_count": 30,
     "metadata": {},
     "output_type": "execute_result"
    }
   ],
   "source": [
    "#X14\n",
    "\n",
    "loan_data['X14'].value_counts()"
   ]
  },
  {
   "cell_type": "code",
   "execution_count": 31,
   "metadata": {},
   "outputs": [
    {
     "data": {
      "text/plain": [
       "0    149686\n",
       "2    127220\n",
       "1    123093\n",
       "Name: X14, dtype: int64"
      ]
     },
     "execution_count": 31,
     "metadata": {},
     "output_type": "execute_result"
    }
   ],
   "source": [
    "le = LabelEncoder()\n",
    "le.fit(loan_data['X14'].unique())\n",
    "values = le.transform(loan_data['X14'].values)\n",
    "loan_data['X14'] = values\n",
    "loan_data['X14'].value_counts()"
   ]
  },
  {
   "cell_type": "code",
   "execution_count": 32,
   "metadata": {},
   "outputs": [],
   "source": [
    "import datetime\n",
    "\n",
    "loan_data['day_of_loan'] = loan_data['X15'].dt.day\n",
    "loan_data['month_of_loan'] = loan_data['X15'].dt.month\n",
    "loan_data.drop(['X15'],axis=1,inplace=True)"
   ]
  },
  {
   "cell_type": "code",
   "execution_count": 33,
   "metadata": {},
   "outputs": [],
   "source": [
    "loan_data.drop(['X16'],axis=1,inplace=True)"
   ]
  },
  {
   "cell_type": "code",
   "execution_count": 34,
   "metadata": {},
   "outputs": [
    {
     "name": "stdout",
     "output_type": "stream",
     "text": [
      "0\n"
     ]
    },
    {
     "data": {
      "text/plain": [
       "2     233794\n",
       "1      89484\n",
       "4      23140\n",
       "9      20161\n",
       "6       8664\n",
       "11      6287\n",
       "0       4861\n",
       "7       3935\n",
       "8       2562\n",
       "13      2287\n",
       "12      2159\n",
       "5       2032\n",
       "3        325\n",
       "10       308\n",
       "Name: X17, dtype: int64"
      ]
     },
     "execution_count": 34,
     "metadata": {},
     "output_type": "execute_result"
    }
   ],
   "source": [
    "#X17 - Loan Category\n",
    "print(loan_data['X17'].isnull().sum())\n",
    "\n",
    "le = LabelEncoder()\n",
    "le.fit(loan_data['X17'].unique())\n",
    "values = le.transform(loan_data['X17'].values)\n",
    "loan_data['X17'] = values\n",
    "loan_data['X17'].value_counts()"
   ]
  },
  {
   "cell_type": "code",
   "execution_count": 35,
   "metadata": {},
   "outputs": [],
   "source": [
    "#X18 - Loan Title \n",
    "loan_data['X18'] = loan_data['X18'].str.lower().str.strip()\n",
    "loan_data['X18'] = loan_data['X18'].fillna('consolidation')"
   ]
  },
  {
   "cell_type": "code",
   "execution_count": 36,
   "metadata": {},
   "outputs": [],
   "source": [
    "loan_data.loc[loan_data['X18'].str.contains('consolidation'),'X18'] = 'consolidation'\n",
    "loan_data.loc[loan_data['X18'].str.contains('consolidate'),'X18'] = 'consolidation'\n",
    "loan_data.loc[loan_data['X18'].str.contains('card'),'X18'] = 'credit card'\n",
    "loan_data.loc[loan_data['X18'].str.contains('home improvement loan'),'X18'] = 'home improvement'\n",
    "loan_data.loc[loan_data['X18'].str.contains('home'),'X18'] = 'home improvement'\n",
    "loan_data.loc[loan_data['X18'].str.contains('home buying'),'X18'] = 'home improvement'\n",
    "loan_data.loc[loan_data['X18'].str.contains('my loan'),'X18'] = 'loan'\n",
    "loan_data.loc[loan_data['X18'].str.contains('car'),'X18'] = 'car'\n",
    "loan_data.loc[loan_data['X18'].str.contains('debt'),'X18'] = 'debt'\n",
    "loan_data.loc[loan_data['X18'].str.contains('medical'),'X18'] = 'medical'\n",
    "loan_data.loc[loan_data['X18'].str.contains('business'),'X18'] = 'business'\n",
    "loan_data.loc[loan_data['X18'].str.contains('wedding'),'X18'] = 'wedding'"
   ]
  },
  {
   "cell_type": "code",
   "execution_count": 37,
   "metadata": {},
   "outputs": [],
   "source": [
    "x18_list = list(loan_data['X18'].value_counts()[loan_data['X18'].value_counts()>1000].index)"
   ]
  },
  {
   "cell_type": "code",
   "execution_count": 38,
   "metadata": {},
   "outputs": [],
   "source": [
    "loan_data.loc[~loan_data['X18'].isin(x18_list),'X18'] = 'other'\n"
   ]
  },
  {
   "cell_type": "code",
   "execution_count": 39,
   "metadata": {},
   "outputs": [
    {
     "data": {
      "text/plain": [
       "2     184026\n",
       "1      75581\n",
       "10     72766\n",
       "5      20412\n",
       "3      18854\n",
       "0       5026\n",
       "7       3883\n",
       "8       3442\n",
       "13      3328\n",
       "6       2903\n",
       "15      2310\n",
       "12      2106\n",
       "14      1459\n",
       "11      1459\n",
       "4       1324\n",
       "9       1120\n",
       "Name: X18, dtype: int64"
      ]
     },
     "execution_count": 39,
     "metadata": {},
     "output_type": "execute_result"
    }
   ],
   "source": [
    "le = LabelEncoder()\n",
    "le.fit(loan_data['X18'].unique())\n",
    "values = le.transform(loan_data['X18'].values)\n",
    "loan_data['X18'] = values\n",
    "loan_data['X18'].value_counts()"
   ]
  },
  {
   "cell_type": "code",
   "execution_count": 40,
   "metadata": {},
   "outputs": [],
   "source": [
    "loan_data['X19'] = loan_data['X19'].str.strip('xx').astype('float')"
   ]
  },
  {
   "cell_type": "code",
   "execution_count": 41,
   "metadata": {},
   "outputs": [
    {
     "data": {
      "text/plain": [
       "4     62194\n",
       "33    34557\n",
       "42    31277\n",
       "9     26991\n",
       "14    15877\n",
       "30    15574\n",
       "37    13983\n",
       "34    12970\n",
       "10    12755\n",
       "44    12252\n",
       "27    10875\n",
       "22     9857\n",
       "19     9527\n",
       "20     9414\n",
       "46     9144\n",
       "3      9134\n",
       "5      8417\n",
       "23     6907\n",
       "24     6434\n",
       "6      6175\n",
       "32     5594\n",
       "15     5449\n",
       "36     5171\n",
       "47     5000\n",
       "1      4993\n",
       "41     4970\n",
       "18     4770\n",
       "39     4731\n",
       "17     3756\n",
       "16     3640\n",
       "35     3546\n",
       "2      2971\n",
       "43     2959\n",
       "31     2190\n",
       "11     2124\n",
       "48     2064\n",
       "29     1923\n",
       "38     1758\n",
       "7      1267\n",
       "26     1188\n",
       "0      1108\n",
       "8      1072\n",
       "49      983\n",
       "40      854\n",
       "25      828\n",
       "45      748\n",
       "13        9\n",
       "28        8\n",
       "12        7\n",
       "21        4\n",
       "Name: X20, dtype: int64"
      ]
     },
     "execution_count": 41,
     "metadata": {},
     "output_type": "execute_result"
    }
   ],
   "source": [
    "le = LabelEncoder()\n",
    "le.fit(loan_data['X20'].unique())\n",
    "values = le.transform(loan_data['X20'].values)\n",
    "loan_data['X20'] = values\n",
    "loan_data['X20'].value_counts()"
   ]
  },
  {
   "cell_type": "code",
   "execution_count": 42,
   "metadata": {},
   "outputs": [
    {
     "name": "stdout",
     "output_type": "stream",
     "text": [
      "0\n",
      "None\n"
     ]
    },
    {
     "data": {
      "text/plain": [
       "14.40    360\n",
       "19.20    328\n",
       "12.00    328\n",
       "0.00     326\n",
       "18.00    323\n",
       "16.80    314\n",
       "20.40    306\n",
       "13.20    302\n",
       "15.60    298\n",
       "21.60    274\n",
       "10.80    264\n",
       "22.80    259\n",
       "12.48    252\n",
       "16.20    249\n",
       "24.00    245\n",
       "9.60     245\n",
       "16.32    244\n",
       "15.84    244\n",
       "17.04    242\n",
       "18.60    240\n",
       "15.12    239\n",
       "13.44    239\n",
       "16.08    238\n",
       "12.72    236\n",
       "14.64    235\n",
       "17.76    232\n",
       "16.56    232\n",
       "11.52    232\n",
       "14.88    230\n",
       "13.92    230\n",
       "        ... \n",
       "35.05      1\n",
       "39.08      1\n",
       "35.69      1\n",
       "38.16      1\n",
       "35.50      1\n",
       "36.56      1\n",
       "37.44      1\n",
       "37.11      1\n",
       "35.63      1\n",
       "38.98      1\n",
       "36.26      1\n",
       "35.55      1\n",
       "36.54      1\n",
       "36.28      1\n",
       "38.01      1\n",
       "38.97      1\n",
       "37.34      1\n",
       "37.66      1\n",
       "38.36      1\n",
       "39.35      1\n",
       "36.98      1\n",
       "36.44      1\n",
       "36.75      1\n",
       "37.56      1\n",
       "37.00      1\n",
       "37.86      1\n",
       "37.64      1\n",
       "37.55      1\n",
       "39.33      1\n",
       "36.41      1\n",
       "Name: X21, Length: 3955, dtype: int64"
      ]
     },
     "execution_count": 42,
     "metadata": {},
     "output_type": "execute_result"
    }
   ],
   "source": [
    "print(null_check('X21'))\n",
    "loan_data['X21'].value_counts()"
   ]
  },
  {
   "cell_type": "code",
   "execution_count": 43,
   "metadata": {},
   "outputs": [
    {
     "name": "stdout",
     "output_type": "stream",
     "text": [
      "0\n",
      "None\n"
     ]
    },
    {
     "data": {
      "text/plain": [
       "0.0     330533\n",
       "1.0      47138\n",
       "2.0      13561\n",
       "3.0       4675\n",
       "4.0       1922\n",
       "5.0        994\n",
       "6.0        516\n",
       "7.0        274\n",
       "8.0        140\n",
       "9.0         84\n",
       "10.0        55\n",
       "11.0        32\n",
       "12.0        28\n",
       "13.0        16\n",
       "14.0         6\n",
       "18.0         6\n",
       "16.0         5\n",
       "15.0         5\n",
       "17.0         3\n",
       "19.0         2\n",
       "21.0         1\n",
       "22.0         1\n",
       "29.0         1\n",
       "24.0         1\n",
       "Name: X22, dtype: int64"
      ]
     },
     "execution_count": 43,
     "metadata": {},
     "output_type": "execute_result"
    }
   ],
   "source": [
    "print(null_check('X22'))\n",
    "loan_data['X22'].value_counts()"
   ]
  },
  {
   "cell_type": "code",
   "execution_count": 44,
   "metadata": {},
   "outputs": [
    {
     "name": "stdout",
     "output_type": "stream",
     "text": [
      "0\n",
      "None\n"
     ]
    }
   ],
   "source": [
    "print(null_check('X23'))\n",
    "loan_data['day of first credit'] = loan_data['X23'].dt.day\n",
    "loan_data['month of first credit'] = loan_data['X23'].dt.month\n",
    "loan_data['year of first credit'] = loan_data['X23'].dt.year\n",
    "loan_data.drop(['X23'],axis=1,inplace=True)"
   ]
  },
  {
   "cell_type": "code",
   "execution_count": 45,
   "metadata": {},
   "outputs": [
    {
     "name": "stdout",
     "output_type": "stream",
     "text": [
      "0\n",
      "None\n"
     ]
    },
    {
     "data": {
      "text/plain": [
       "0.0    203168\n",
       "1.0    112483\n",
       "2.0     51962\n",
       "3.0     23234\n",
       "4.0      6047\n",
       "5.0      2158\n",
       "6.0       877\n",
       "7.0        48\n",
       "8.0        22\n",
       "Name: X24, dtype: int64"
      ]
     },
     "execution_count": 45,
     "metadata": {},
     "output_type": "execute_result"
    }
   ],
   "source": [
    "print(null_check('X24'))\n",
    "loan_data['X24'].value_counts()"
   ]
  },
  {
   "cell_type": "code",
   "execution_count": 46,
   "metadata": {},
   "outputs": [
    {
     "name": "stdout",
     "output_type": "stream",
     "text": [
      "0.5470038675096688\n"
     ]
    }
   ],
   "source": [
    "print(loan_data['X25'].isnull().sum()/len(loan_data))\n",
    "#Since the number of missing values is more than 50% - I will drop the column \n",
    "\n",
    "loan_data.drop(['X25'],axis=1,inplace=True)"
   ]
  },
  {
   "cell_type": "code",
   "execution_count": 47,
   "metadata": {},
   "outputs": [
    {
     "name": "stdout",
     "output_type": "stream",
     "text": [
      "0.8721121802804507\n"
     ]
    }
   ],
   "source": [
    "print(loan_data['X26'].isnull().sum()/len(loan_data))\n",
    "#Since the number of missing values is more than 50% - I will drop the column \n",
    "\n",
    "loan_data.drop(['X26'],axis=1,inplace=True)"
   ]
  },
  {
   "cell_type": "code",
   "execution_count": 48,
   "metadata": {},
   "outputs": [
    {
     "data": {
      "text/plain": [
       "9.0     38245\n",
       "10.0    36757\n",
       "8.0     36285\n",
       "11.0    33862\n",
       "7.0     32615\n",
       "12.0    30030\n",
       "6.0     26583\n",
       "13.0    25549\n",
       "14.0    21223\n",
       "5.0     18430\n",
       "15.0    17269\n",
       "16.0    14279\n",
       "17.0    11420\n",
       "4.0     10713\n",
       "18.0     9175\n",
       "19.0     7214\n",
       "20.0     5520\n",
       "3.0      4691\n",
       "21.0     4366\n",
       "22.0     3383\n",
       "23.0     2574\n",
       "24.0     2021\n",
       "2.0      1562\n",
       "25.0     1526\n",
       "26.0     1044\n",
       "27.0      798\n",
       "28.0      579\n",
       "29.0      470\n",
       "30.0      366\n",
       "31.0      248\n",
       "32.0      224\n",
       "33.0      166\n",
       "34.0      137\n",
       "35.0      127\n",
       "36.0       98\n",
       "1.0        94\n",
       "37.0       80\n",
       "38.0       59\n",
       "39.0       52\n",
       "41.0       29\n",
       "40.0       28\n",
       "42.0       24\n",
       "43.0       15\n",
       "45.0       13\n",
       "44.0        9\n",
       "49.0        8\n",
       "0.0         7\n",
       "51.0        5\n",
       "46.0        5\n",
       "50.0        4\n",
       "48.0        4\n",
       "53.0        3\n",
       "47.0        3\n",
       "58.0        2\n",
       "62.0        1\n",
       "54.0        1\n",
       "61.0        1\n",
       "52.0        1\n",
       "55.0        1\n",
       "76.0        1\n",
       "Name: X27, dtype: int64"
      ]
     },
     "execution_count": 48,
     "metadata": {},
     "output_type": "execute_result"
    }
   ],
   "source": [
    "#X27 - number of open credit lines\n",
    "loan_data['X27'].value_counts()"
   ]
  },
  {
   "cell_type": "code",
   "execution_count": 49,
   "metadata": {},
   "outputs": [
    {
     "data": {
      "text/plain": [
       "0.0     349514\n",
       "1.0      44065\n",
       "2.0       4351\n",
       "3.0       1239\n",
       "4.0        398\n",
       "5.0        217\n",
       "6.0        107\n",
       "7.0         49\n",
       "8.0         20\n",
       "9.0         13\n",
       "10.0        10\n",
       "11.0         5\n",
       "13.0         2\n",
       "21.0         1\n",
       "18.0         1\n",
       "49.0         1\n",
       "54.0         1\n",
       "14.0         1\n",
       "34.0         1\n",
       "17.0         1\n",
       "40.0         1\n",
       "63.0         1\n",
       "Name: X28, dtype: int64"
      ]
     },
     "execution_count": 49,
     "metadata": {},
     "output_type": "execute_result"
    }
   ],
   "source": [
    "loan_data['X28'].value_counts()"
   ]
  },
  {
   "cell_type": "code",
   "execution_count": 50,
   "metadata": {},
   "outputs": [
    {
     "data": {
      "text/plain": [
       "0.0         1990\n",
       "7429.0        37\n",
       "8708.0        36\n",
       "6223.0        36\n",
       "5143.0        35\n",
       "5365.0        35\n",
       "6095.0        35\n",
       "12061.0       34\n",
       "9208.0        34\n",
       "4802.0        34\n",
       "5655.0        34\n",
       "4532.0        34\n",
       "6603.0        34\n",
       "8476.0        34\n",
       "7404.0        34\n",
       "6507.0        34\n",
       "8447.0        34\n",
       "5152.0        34\n",
       "5235.0        34\n",
       "10222.0       33\n",
       "6683.0        33\n",
       "11672.0       33\n",
       "6339.0        33\n",
       "5804.0        33\n",
       "6764.0        33\n",
       "9583.0        33\n",
       "4948.0        33\n",
       "8757.0        32\n",
       "6422.0        32\n",
       "5459.0        32\n",
       "            ... \n",
       "48200.0        1\n",
       "62562.0        1\n",
       "48198.0        1\n",
       "49665.0        1\n",
       "49667.0        1\n",
       "99341.0        1\n",
       "49671.0        1\n",
       "154730.0       1\n",
       "198690.0       1\n",
       "38681.0        1\n",
       "49674.0        1\n",
       "153408.0       1\n",
       "49681.0        1\n",
       "54548.0        1\n",
       "62480.0        1\n",
       "99403.0        1\n",
       "99366.0        1\n",
       "49685.0        1\n",
       "49687.0        1\n",
       "77351.0        1\n",
       "77349.0        1\n",
       "57750.0        1\n",
       "49692.0        1\n",
       "44754.0        1\n",
       "99389.0        1\n",
       "70270.0        1\n",
       "70158.0        1\n",
       "38671.0        1\n",
       "48202.0        1\n",
       "95393.0        1\n",
       "Name: X29, Length: 54620, dtype: int64"
      ]
     },
     "execution_count": 50,
     "metadata": {},
     "output_type": "execute_result"
    }
   ],
   "source": [
    "loan_data['X29'].value_counts()"
   ]
  },
  {
   "cell_type": "code",
   "execution_count": 51,
   "metadata": {},
   "outputs": [],
   "source": [
    "#X30 - Utilization Rate\n",
    "loan_data['X30'] = loan_data['X30'].str.strip('%').astype('float')"
   ]
  },
  {
   "cell_type": "code",
   "execution_count": 52,
   "metadata": {},
   "outputs": [],
   "source": [
    "loan_data['X30'] = loan_data['X30'].fillna(loan_data['X30'].median())"
   ]
  },
  {
   "cell_type": "code",
   "execution_count": 53,
   "metadata": {},
   "outputs": [
    {
     "data": {
      "text/plain": [
       "dtype('float64')"
      ]
     },
     "execution_count": 53,
     "metadata": {},
     "output_type": "execute_result"
    }
   ],
   "source": [
    "loan_data['X31'].dtype"
   ]
  },
  {
   "cell_type": "code",
   "execution_count": 54,
   "metadata": {},
   "outputs": [
    {
     "data": {
      "text/plain": [
       "0    274313\n",
       "1    125686\n",
       "Name: X32, dtype: int64"
      ]
     },
     "execution_count": 54,
     "metadata": {},
     "output_type": "execute_result"
    }
   ],
   "source": [
    "loan_data['X32']\n",
    "\n",
    "le = LabelEncoder()\n",
    "le.fit(loan_data['X32'].unique())\n",
    "values = le.transform(loan_data['X32'].values)\n",
    "loan_data['X32'] = values\n",
    "loan_data['X32'].value_counts()"
   ]
  },
  {
   "cell_type": "code",
   "execution_count": 55,
   "metadata": {},
   "outputs": [
    {
     "name": "stdout",
     "output_type": "stream",
     "text": [
      "<class 'pandas.core.frame.DataFrame'>\n",
      "Int64Index: 399999 entries, 0 to 399999\n",
      "Data columns (total 30 columns):\n",
      "X1                       338989 non-null float64\n",
      "X4                       399999 non-null float64\n",
      "X5                       399999 non-null float64\n",
      "X6                       399999 non-null float64\n",
      "X7                       399999 non-null int64\n",
      "X8                       399999 non-null int64\n",
      "X9                       399999 non-null int64\n",
      "X10                      399999 non-null int64\n",
      "X11                      399999 non-null int64\n",
      "X12                      399999 non-null int64\n",
      "X13                      399999 non-null float64\n",
      "X14                      399999 non-null int64\n",
      "X17                      399999 non-null int64\n",
      "X18                      399999 non-null int64\n",
      "X19                      399999 non-null float64\n",
      "X20                      399999 non-null int64\n",
      "X21                      399999 non-null float64\n",
      "X22                      399999 non-null float64\n",
      "X24                      399999 non-null float64\n",
      "X27                      399999 non-null float64\n",
      "X28                      399999 non-null float64\n",
      "X29                      399999 non-null float64\n",
      "X30                      399999 non-null float64\n",
      "X31                      399999 non-null float64\n",
      "X32                      399999 non-null int64\n",
      "day_of_loan              399999 non-null int64\n",
      "month_of_loan            399999 non-null int64\n",
      "day of first credit      399999 non-null int64\n",
      "month of first credit    399999 non-null int64\n",
      "year of first credit     399999 non-null int64\n",
      "dtypes: float64(14), int64(16)\n",
      "memory usage: 94.6 MB\n"
     ]
    }
   ],
   "source": [
    "loan_data.info()"
   ]
  },
  {
   "cell_type": "markdown",
   "metadata": {},
   "source": [
    "### Exploratory Data Analysis"
   ]
  },
  {
   "cell_type": "code",
   "execution_count": 56,
   "metadata": {},
   "outputs": [
    {
     "data": {
      "text/plain": [
       "<matplotlib.axes._subplots.AxesSubplot at 0x1a22c36860>"
      ]
     },
     "execution_count": 56,
     "metadata": {},
     "output_type": "execute_result"
    },
    {
     "data": {
      "image/png": "[encoded data removed]",
      "text/plain": [
       "<Figure size 432x288 with 1 Axes>"
      ]
     },
     "metadata": {
      "needs_background": "light"
     },
     "output_type": "display_data"
    }
   ],
   "source": [
    "#Loan Grade and Interest Rate\n",
    "sns.barplot(x='X8',y='X1',data=loan_data)"
   ]
  },
  {
   "cell_type": "code",
   "execution_count": 57,
   "metadata": {},
   "outputs": [
    {
     "data": {
      "text/plain": [
       "<matplotlib.axes._subplots.AxesSubplot at 0x1a238fc278>"
      ]
     },
     "execution_count": 57,
     "metadata": {},
     "output_type": "execute_result"
    },
    {
     "data": {
      "image/png": "[encoded data removed]",
      "text/plain": [
       "<Figure size 432x288 with 1 Axes>"
      ]
     },
     "metadata": {
      "needs_background": "light"
     },
     "output_type": "display_data"
    }
   ],
   "source": [
    "#Loan SubGrade and Avg Interest Rate\n",
    "sns.barplot(x='X9',y='X1',data=loan_data)"
   ]
  },
  {
   "cell_type": "code",
   "execution_count": 58,
   "metadata": {},
   "outputs": [
    {
     "data": {
      "text/plain": [
       "<matplotlib.axes._subplots.AxesSubplot at 0x1a20e37898>"
      ]
     },
     "execution_count": 58,
     "metadata": {},
     "output_type": "execute_result"
    },
    {
     "data": {
      "image/png": "[encoded data removed]",
      "text/plain": [
       "<Figure size 432x288 with 1 Axes>"
      ]
     },
     "metadata": {
      "needs_background": "light"
     },
     "output_type": "display_data"
    }
   ],
   "source": [
    "sns.barplot(x='day_of_loan',y='X1',data=loan_data)"
   ]
  },
  {
   "cell_type": "code",
   "execution_count": 59,
   "metadata": {},
   "outputs": [
    {
     "data": {
      "text/plain": [
       "<matplotlib.axes._subplots.AxesSubplot at 0x1a296d63c8>"
      ]
     },
     "execution_count": 59,
     "metadata": {},
     "output_type": "execute_result"
    },
    {
     "data": {
      "image/png": "[encoded data removed]",
      "text/plain": [
       "<Figure size 432x288 with 1 Axes>"
      ]
     },
     "metadata": {
      "needs_background": "light"
     },
     "output_type": "display_data"
    }
   ],
   "source": [
    "#Number of Payments (X7) vs. BoxPlot of Interest Rate\n",
    "sns.boxplot(x='X7',y='X1',data=loan_data)"
   ]
  },
  {
   "cell_type": "code",
   "execution_count": 62,
   "metadata": {},
   "outputs": [
    {
     "data": {
      "text/plain": [
       "<matplotlib.axes._subplots.AxesSubplot at 0x1a22c2a2b0>"
      ]
     },
     "execution_count": 62,
     "metadata": {},
     "output_type": "execute_result"
    },
    {
     "data": {
      "image/png": "[encoded data removed]",
      "text/plain": [
       "<Figure size 842.4x595.44 with 2 Axes>"
      ]
     },
     "metadata": {},
     "output_type": "display_data"
    }
   ],
   "source": [
    "corr = loan_data.corr()\n",
    "sns.set(rc={'figure.figsize':(11.7,8.27)})\n",
    "sns.heatmap(corr, \n",
    "            xticklabels=corr.columns.values,\n",
    "            yticklabels=corr.columns.values)"
   ]
  },
  {
   "cell_type": "markdown",
   "metadata": {},
   "source": [
    "### Train and Test Split"
   ]
  },
  {
   "cell_type": "code",
   "execution_count": 81,
   "metadata": {},
   "outputs": [],
   "source": [
    "from sklearn.model_selection import train_test_split\n",
    "from sklearn.ensemble import RandomForestRegressor\n",
    "from sklearn.linear_model import LinearRegression\n",
    "from sklearn.ensemble import GradientBoostingRegressor\n",
    "from sklearn.svm import SVR\n",
    "from sklearn import metrics\n",
    "from sklearn.decomposition import PCA\n",
    "import numpy as np\n",
    "import pandas as pd\n",
    "import seaborn as sns\n",
    "import matplotlib as mpl\n",
    "import matplotlib.pyplot as plt\n",
    "import sklearn\n",
    "import pickle"
   ]
  },
  {
   "cell_type": "code",
   "execution_count": 64,
   "metadata": {},
   "outputs": [],
   "source": [
    "train_set = loan_data.loc[~loan_data['X1'].isnull(),]"
   ]
  },
  {
   "cell_type": "code",
   "execution_count": 65,
   "metadata": {},
   "outputs": [],
   "source": [
    "test_set = train_set['X1']"
   ]
  },
  {
   "cell_type": "code",
   "execution_count": 66,
   "metadata": {},
   "outputs": [],
   "source": [
    "train_set.drop(['X1'],axis=1,inplace=True)"
   ]
  },
  {
   "cell_type": "markdown",
   "metadata": {},
   "source": [
    "####  Trying PCA on the Train Set"
   ]
  },
  {
   "cell_type": "code",
   "execution_count": 105,
   "metadata": {},
   "outputs": [],
   "source": [
    "pca = PCA(n_components=15)\n",
    "pca.fit(train_set)\n",
    "pca.set = pca.fit_transform(train_set)"
   ]
  },
  {
   "cell_type": "code",
   "execution_count": 106,
   "metadata": {},
   "outputs": [
    {
     "data": {
      "text/plain": [
       "(338989, 15)"
      ]
     },
     "execution_count": 106,
     "metadata": {},
     "output_type": "execute_result"
    }
   ],
   "source": [
    "pca.set.shape"
   ]
  },
  {
   "cell_type": "code",
   "execution_count": 107,
   "metadata": {},
   "outputs": [],
   "source": [
    "def plot_naive_variance(pca):\n",
    "\n",
    "    fig, ax = plt.subplots(figsize=(10,6))\n",
    "    ax.set_xlabel('Dimension #')\n",
    "    ax.set_ylabel('Explained Variance Ratio')\n",
    "    ax.set_title('Fraction of Explained Variance')\n",
    "    ax.plot(pca.explained_variance_ratio_)\n",
    "\n",
    "    return ax"
   ]
  },
  {
   "cell_type": "code",
   "execution_count": 108,
   "metadata": {},
   "outputs": [
    {
     "data": {
      "text/plain": [
       "<matplotlib.axes._subplots.AxesSubplot at 0x1a20f3ed30>"
      ]
     },
     "execution_count": 108,
     "metadata": {},
     "output_type": "execute_result"
    },
    {
     "data": {
      "image/png": "[encoded data removed]",
      "text/plain": [
       "<Figure size 720x432 with 1 Axes>"
      ]
     },
     "metadata": {},
     "output_type": "display_data"
    }
   ],
   "source": [
    "plot_naive_variance(pca)"
   ]
  },
  {
   "cell_type": "markdown",
   "metadata": {},
   "source": [
    "**Tried several models with PCA set of the training set, but that didn't improve accuracy significantly. Thus, the PCA set was not used in the final model.**"
   ]
  },
  {
   "cell_type": "markdown",
   "metadata": {},
   "source": [
    "#### New Train Set after Dropping Several Columns "
   ]
  },
  {
   "cell_type": "code",
   "execution_count": 120,
   "metadata": {},
   "outputs": [],
   "source": [
    "train_set_final = train_set.drop(['X10','X18'],axis=1)"
   ]
  },
  {
   "cell_type": "code",
   "execution_count": 121,
   "metadata": {},
   "outputs": [
    {
     "data": {
      "text/plain": [
       "(338989, 29)"
      ]
     },
     "execution_count": 121,
     "metadata": {},
     "output_type": "execute_result"
    }
   ],
   "source": [
    "train_set.shape"
   ]
  },
  {
   "cell_type": "code",
   "execution_count": 122,
   "metadata": {},
   "outputs": [
    {
     "data": {
      "text/plain": [
       "(338989, 27)"
      ]
     },
     "execution_count": 122,
     "metadata": {},
     "output_type": "execute_result"
    }
   ],
   "source": [
    "train_set_final.shape"
   ]
  },
  {
   "cell_type": "code",
   "execution_count": 123,
   "metadata": {},
   "outputs": [
    {
     "data": {
      "text/html": [
       "<div>\n",
       "<style scoped>\n",
       "    .dataframe tbody tr th:only-of-type {\n",
       "        vertical-align: middle;\n",
       "    }\n",
       "\n",
       "    .dataframe tbody tr th {\n",
       "        vertical-align: top;\n",
       "    }\n",
       "\n",
       "    .dataframe thead th {\n",
       "        text-align: right;\n",
       "    }\n",
       "</style>\n",
       "<table border=\"1\" class=\"dataframe\">\n",
       "  <thead>\n",
       "    <tr style=\"text-align: right;\">\n",
       "      <th></th>\n",
       "      <th>X4</th>\n",
       "      <th>X5</th>\n",
       "      <th>X6</th>\n",
       "      <th>X7</th>\n",
       "      <th>X8</th>\n",
       "      <th>X9</th>\n",
       "      <th>X11</th>\n",
       "      <th>X12</th>\n",
       "      <th>X13</th>\n",
       "      <th>X14</th>\n",
       "      <th>...</th>\n",
       "      <th>X28</th>\n",
       "      <th>X29</th>\n",
       "      <th>X30</th>\n",
       "      <th>X31</th>\n",
       "      <th>X32</th>\n",
       "      <th>day_of_loan</th>\n",
       "      <th>month_of_loan</th>\n",
       "      <th>day of first credit</th>\n",
       "      <th>month of first credit</th>\n",
       "      <th>year of first credit</th>\n",
       "    </tr>\n",
       "  </thead>\n",
       "  <tbody>\n",
       "    <tr>\n",
       "      <th>0</th>\n",
       "      <td>25000.0</td>\n",
       "      <td>25000.0</td>\n",
       "      <td>19080.0</td>\n",
       "      <td>0</td>\n",
       "      <td>1</td>\n",
       "      <td>8</td>\n",
       "      <td>10</td>\n",
       "      <td>3</td>\n",
       "      <td>85000.0</td>\n",
       "      <td>0</td>\n",
       "      <td>...</td>\n",
       "      <td>0.0</td>\n",
       "      <td>28854.0</td>\n",
       "      <td>52.1</td>\n",
       "      <td>42.0</td>\n",
       "      <td>0</td>\n",
       "      <td>9</td>\n",
       "      <td>8</td>\n",
       "      <td>1</td>\n",
       "      <td>2</td>\n",
       "      <td>1994</td>\n",
       "    </tr>\n",
       "    <tr>\n",
       "      <th>1</th>\n",
       "      <td>7000.0</td>\n",
       "      <td>7000.0</td>\n",
       "      <td>673.0</td>\n",
       "      <td>0</td>\n",
       "      <td>1</td>\n",
       "      <td>9</td>\n",
       "      <td>10</td>\n",
       "      <td>3</td>\n",
       "      <td>65000.0</td>\n",
       "      <td>2</td>\n",
       "      <td>...</td>\n",
       "      <td>0.0</td>\n",
       "      <td>33623.0</td>\n",
       "      <td>76.7</td>\n",
       "      <td>7.0</td>\n",
       "      <td>0</td>\n",
       "      <td>8</td>\n",
       "      <td>5</td>\n",
       "      <td>1</td>\n",
       "      <td>10</td>\n",
       "      <td>2000</td>\n",
       "    </tr>\n",
       "    <tr>\n",
       "      <th>2</th>\n",
       "      <td>25000.0</td>\n",
       "      <td>25000.0</td>\n",
       "      <td>24725.0</td>\n",
       "      <td>0</td>\n",
       "      <td>3</td>\n",
       "      <td>17</td>\n",
       "      <td>0</td>\n",
       "      <td>3</td>\n",
       "      <td>70000.0</td>\n",
       "      <td>0</td>\n",
       "      <td>...</td>\n",
       "      <td>0.0</td>\n",
       "      <td>19878.0</td>\n",
       "      <td>66.3</td>\n",
       "      <td>17.0</td>\n",
       "      <td>0</td>\n",
       "      <td>14</td>\n",
       "      <td>8</td>\n",
       "      <td>1</td>\n",
       "      <td>6</td>\n",
       "      <td>2000</td>\n",
       "    </tr>\n",
       "    <tr>\n",
       "      <th>3</th>\n",
       "      <td>1200.0</td>\n",
       "      <td>1200.0</td>\n",
       "      <td>1200.0</td>\n",
       "      <td>0</td>\n",
       "      <td>2</td>\n",
       "      <td>11</td>\n",
       "      <td>1</td>\n",
       "      <td>2</td>\n",
       "      <td>54000.0</td>\n",
       "      <td>2</td>\n",
       "      <td>...</td>\n",
       "      <td>0.0</td>\n",
       "      <td>2584.0</td>\n",
       "      <td>40.4</td>\n",
       "      <td>31.0</td>\n",
       "      <td>0</td>\n",
       "      <td>10</td>\n",
       "      <td>3</td>\n",
       "      <td>1</td>\n",
       "      <td>1</td>\n",
       "      <td>1985</td>\n",
       "    </tr>\n",
       "    <tr>\n",
       "      <th>4</th>\n",
       "      <td>10800.0</td>\n",
       "      <td>10800.0</td>\n",
       "      <td>10692.0</td>\n",
       "      <td>0</td>\n",
       "      <td>2</td>\n",
       "      <td>12</td>\n",
       "      <td>6</td>\n",
       "      <td>3</td>\n",
       "      <td>32000.0</td>\n",
       "      <td>2</td>\n",
       "      <td>...</td>\n",
       "      <td>0.0</td>\n",
       "      <td>3511.0</td>\n",
       "      <td>25.6</td>\n",
       "      <td>40.0</td>\n",
       "      <td>0</td>\n",
       "      <td>9</td>\n",
       "      <td>11</td>\n",
       "      <td>1</td>\n",
       "      <td>12</td>\n",
       "      <td>1996</td>\n",
       "    </tr>\n",
       "  </tbody>\n",
       "</table>\n",
       "<p>5 rows × 27 columns</p>\n",
       "</div>"
      ],
      "text/plain": [
       "        X4       X5       X6  X7  X8  X9  X11  X12      X13  X14  \\\n",
       "0  25000.0  25000.0  19080.0   0   1   8   10    3  85000.0    0   \n",
       "1   7000.0   7000.0    673.0   0   1   9   10    3  65000.0    2   \n",
       "2  25000.0  25000.0  24725.0   0   3  17    0    3  70000.0    0   \n",
       "3   1200.0   1200.0   1200.0   0   2  11    1    2  54000.0    2   \n",
       "4  10800.0  10800.0  10692.0   0   2  12    6    3  32000.0    2   \n",
       "\n",
       "           ...           X28      X29   X30   X31  X32  day_of_loan  \\\n",
       "0          ...           0.0  28854.0  52.1  42.0    0            9   \n",
       "1          ...           0.0  33623.0  76.7   7.0    0            8   \n",
       "2          ...           0.0  19878.0  66.3  17.0    0           14   \n",
       "3          ...           0.0   2584.0  40.4  31.0    0           10   \n",
       "4          ...           0.0   3511.0  25.6  40.0    0            9   \n",
       "\n",
       "   month_of_loan  day of first credit  month of first credit  \\\n",
       "0              8                    1                      2   \n",
       "1              5                    1                     10   \n",
       "2              8                    1                      6   \n",
       "3              3                    1                      1   \n",
       "4             11                    1                     12   \n",
       "\n",
       "   year of first credit  \n",
       "0                  1994  \n",
       "1                  2000  \n",
       "2                  2000  \n",
       "3                  1985  \n",
       "4                  1996  \n",
       "\n",
       "[5 rows x 27 columns]"
      ]
     },
     "execution_count": 123,
     "metadata": {},
     "output_type": "execute_result"
    }
   ],
   "source": [
    "train_set_final.head()"
   ]
  },
  {
   "cell_type": "code",
   "execution_count": 125,
   "metadata": {},
   "outputs": [
    {
     "name": "stdout",
     "output_type": "stream",
     "text": [
      "(271191, 27)\n",
      "(67798, 27)\n",
      "(271191,)\n",
      "(67798,)\n",
      "             X4       X5       X6  X7  X8  X9  X11  X12       X13  X14  \\\n",
      "136462  20000.0  20000.0  20000.0   0   0   1    9    3   67000.0    0   \n",
      "279832  24000.0  24000.0  24000.0   1   2  13   10    3   63000.0    1   \n",
      "158193  28000.0  28000.0  28000.0   0   1   5    5    3  600000.0    0   \n",
      "133672  28000.0  28000.0  27975.0   1   2  13    1    0  100000.0    1   \n",
      "21042   11000.0  11000.0  11000.0   0   0   4    7    0   32000.0    1   \n",
      "\n",
      "                ...           X28      X29   X30   X31  X32  day_of_loan  \\\n",
      "136462          ...           0.0  14569.0  54.0  27.0    0           13   \n",
      "279832          ...           0.0   5180.0  79.7  13.0    0           14   \n",
      "158193          ...           0.0  17873.0  35.0  19.0    0           13   \n",
      "133672          ...           0.0  26998.0  51.9  33.0    0           13   \n",
      "21042           ...           0.0      0.0   0.0   6.0    0           11   \n",
      "\n",
      "        month_of_loan  day of first credit  month of first credit  \\\n",
      "136462              5                    1                      9   \n",
      "279832              3                    1                      6   \n",
      "158193              8                    1                      3   \n",
      "133672              6                    1                     12   \n",
      "21042               2                    1                      9   \n",
      "\n",
      "        year of first credit  \n",
      "136462                  1997  \n",
      "279832                  1992  \n",
      "158193                  1998  \n",
      "133672                  1999  \n",
      "21042                   2019  \n",
      "\n",
      "[5 rows x 27 columns]\n",
      "             X4       X5       X6  X7  X8  X9  X11  X12      X13  X14  \\\n",
      "159551  11000.0  11000.0  11000.0   0   1   8    6    0  42000.0    1   \n",
      "183203   7600.0   7600.0   7600.0   0   2  10    2    0  40622.0    1   \n",
      "105852  20000.0  20000.0  19950.0   0   1   6    1    3  63000.0    0   \n",
      "249250  26000.0  26000.0  26000.0   1   3  16    6    3  73000.0    1   \n",
      "43645   21000.0  21000.0  21000.0   1   4  22    3    0  57000.0    0   \n",
      "\n",
      "                ...           X28      X29   X30   X31  X32  day_of_loan  \\\n",
      "159551          ...           1.0  10378.0  72.1  38.0    0           13   \n",
      "183203          ...           0.0   9110.0  79.2  37.0    0           13   \n",
      "105852          ...           0.0  11310.0  59.5  18.0    0           13   \n",
      "249250          ...           0.0  22417.0  95.4  60.0    0           14   \n",
      "43645           ...           0.0   6266.0  68.9  10.0    0           12   \n",
      "\n",
      "        month_of_loan  day of first credit  month of first credit  \\\n",
      "159551              8                    1                      7   \n",
      "183203             10                    1                     12   \n",
      "105852              2                    1                      8   \n",
      "249250              1                    1                      7   \n",
      "43645               2                    7                      5   \n",
      "\n",
      "        year of first credit  \n",
      "159551                  1970  \n",
      "183203                  2019  \n",
      "105852                  1983  \n",
      "249250                  1999  \n",
      "43645                   2019  \n",
      "\n",
      "[5 rows x 27 columns]\n",
      "136462    14.09\n",
      "279832    15.31\n",
      "158193     9.71\n",
      "133672    16.29\n",
      "21042      7.66\n",
      "Name: X1, dtype: float64\n",
      "159551    12.35\n",
      "183203    14.30\n",
      "105852    14.33\n",
      "249250    16.24\n",
      "43645     19.42\n",
      "Name: X1, dtype: float64\n"
     ]
    }
   ],
   "source": [
    "X_train,X_test,y_train,y_test=train_test_split(train_set_final,test_set,test_size=0.20,random_state=5)\n",
    "\n",
    "print(X_train.shape)\n",
    "print(X_test.shape)\n",
    "print(y_train.shape)\n",
    "print(y_test.shape)\n",
    "\n",
    "print(X_train.head())\n",
    "print(X_test.head())\n",
    "print(y_train.head())\n",
    "print(y_test.head())"
   ]
  },
  {
   "cell_type": "markdown",
   "metadata": {},
   "source": [
    "### Testing Different Regression Models"
   ]
  },
  {
   "cell_type": "markdown",
   "metadata": {},
   "source": [
    "#### Linear Regression"
   ]
  },
  {
   "cell_type": "code",
   "execution_count": 126,
   "metadata": {},
   "outputs": [],
   "source": [
    "ln = LinearRegression()\n",
    "ln.fit(X_train,y_train)\n",
    "y_pred = ln.predict(X_test)"
   ]
  },
  {
   "cell_type": "code",
   "execution_count": 127,
   "metadata": {},
   "outputs": [
    {
     "name": "stdout",
     "output_type": "stream",
     "text": [
      "Model Score:  0.752249009188102\n",
      "RMSE:  2.1890205239160307\n"
     ]
    }
   ],
   "source": [
    "from sklearn.metrics import mean_squared_error as MSE\n",
    "score = ln.score(X_test,y_test)\n",
    "print('Model Score: ', score)\n",
    "mse = MSE(y_test,y_pred)\n",
    "rmse = np.sqrt(mse)\n",
    "print('RMSE: ',rmse)"
   ]
  },
  {
   "cell_type": "code",
   "execution_count": 128,
   "metadata": {},
   "outputs": [
    {
     "data": {
      "text/html": [
       "<div>\n",
       "<style scoped>\n",
       "    .dataframe tbody tr th:only-of-type {\n",
       "        vertical-align: middle;\n",
       "    }\n",
       "\n",
       "    .dataframe tbody tr th {\n",
       "        vertical-align: top;\n",
       "    }\n",
       "\n",
       "    .dataframe thead th {\n",
       "        text-align: right;\n",
       "    }\n",
       "</style>\n",
       "<table border=\"1\" class=\"dataframe\">\n",
       "  <thead>\n",
       "    <tr style=\"text-align: right;\">\n",
       "      <th></th>\n",
       "      <th>Abs Coefficient Value</th>\n",
       "      <th>Column Name</th>\n",
       "    </tr>\n",
       "  </thead>\n",
       "  <tbody>\n",
       "    <tr>\n",
       "      <th>3</th>\n",
       "      <td>1.619891</td>\n",
       "      <td>X7</td>\n",
       "    </tr>\n",
       "    <tr>\n",
       "      <th>5</th>\n",
       "      <td>0.425558</td>\n",
       "      <td>X9</td>\n",
       "    </tr>\n",
       "    <tr>\n",
       "      <th>15</th>\n",
       "      <td>0.416179</td>\n",
       "      <td>X24</td>\n",
       "    </tr>\n",
       "    <tr>\n",
       "      <th>21</th>\n",
       "      <td>0.314922</td>\n",
       "      <td>X32</td>\n",
       "    </tr>\n",
       "    <tr>\n",
       "      <th>17</th>\n",
       "      <td>0.303303</td>\n",
       "      <td>X28</td>\n",
       "    </tr>\n",
       "    <tr>\n",
       "      <th>9</th>\n",
       "      <td>0.284612</td>\n",
       "      <td>X14</td>\n",
       "    </tr>\n",
       "    <tr>\n",
       "      <th>14</th>\n",
       "      <td>0.240910</td>\n",
       "      <td>X22</td>\n",
       "    </tr>\n",
       "    <tr>\n",
       "      <th>22</th>\n",
       "      <td>0.152875</td>\n",
       "      <td>day_of_loan</td>\n",
       "    </tr>\n",
       "    <tr>\n",
       "      <th>10</th>\n",
       "      <td>0.140611</td>\n",
       "      <td>X17</td>\n",
       "    </tr>\n",
       "    <tr>\n",
       "      <th>7</th>\n",
       "      <td>0.104663</td>\n",
       "      <td>X12</td>\n",
       "    </tr>\n",
       "    <tr>\n",
       "      <th>24</th>\n",
       "      <td>0.080675</td>\n",
       "      <td>day of first credit</td>\n",
       "    </tr>\n",
       "    <tr>\n",
       "      <th>4</th>\n",
       "      <td>0.080269</td>\n",
       "      <td>X8</td>\n",
       "    </tr>\n",
       "    <tr>\n",
       "      <th>16</th>\n",
       "      <td>0.041024</td>\n",
       "      <td>X27</td>\n",
       "    </tr>\n",
       "    <tr>\n",
       "      <th>19</th>\n",
       "      <td>0.030874</td>\n",
       "      <td>X30</td>\n",
       "    </tr>\n",
       "    <tr>\n",
       "      <th>20</th>\n",
       "      <td>0.016897</td>\n",
       "      <td>X31</td>\n",
       "    </tr>\n",
       "    <tr>\n",
       "      <th>13</th>\n",
       "      <td>0.013706</td>\n",
       "      <td>X21</td>\n",
       "    </tr>\n",
       "    <tr>\n",
       "      <th>6</th>\n",
       "      <td>0.008927</td>\n",
       "      <td>X11</td>\n",
       "    </tr>\n",
       "    <tr>\n",
       "      <th>23</th>\n",
       "      <td>0.008564</td>\n",
       "      <td>month_of_loan</td>\n",
       "    </tr>\n",
       "    <tr>\n",
       "      <th>26</th>\n",
       "      <td>0.003517</td>\n",
       "      <td>year of first credit</td>\n",
       "    </tr>\n",
       "    <tr>\n",
       "      <th>25</th>\n",
       "      <td>0.001387</td>\n",
       "      <td>month of first credit</td>\n",
       "    </tr>\n",
       "    <tr>\n",
       "      <th>12</th>\n",
       "      <td>0.000296</td>\n",
       "      <td>X20</td>\n",
       "    </tr>\n",
       "    <tr>\n",
       "      <th>0</th>\n",
       "      <td>0.000160</td>\n",
       "      <td>X4</td>\n",
       "    </tr>\n",
       "    <tr>\n",
       "      <th>2</th>\n",
       "      <td>0.000111</td>\n",
       "      <td>X6</td>\n",
       "    </tr>\n",
       "    <tr>\n",
       "      <th>1</th>\n",
       "      <td>0.000055</td>\n",
       "      <td>X5</td>\n",
       "    </tr>\n",
       "    <tr>\n",
       "      <th>11</th>\n",
       "      <td>0.000035</td>\n",
       "      <td>X19</td>\n",
       "    </tr>\n",
       "    <tr>\n",
       "      <th>18</th>\n",
       "      <td>0.000008</td>\n",
       "      <td>X29</td>\n",
       "    </tr>\n",
       "    <tr>\n",
       "      <th>8</th>\n",
       "      <td>0.000002</td>\n",
       "      <td>X13</td>\n",
       "    </tr>\n",
       "  </tbody>\n",
       "</table>\n",
       "</div>"
      ],
      "text/plain": [
       "    Abs Coefficient Value            Column Name\n",
       "3                1.619891                     X7\n",
       "5                0.425558                     X9\n",
       "15               0.416179                    X24\n",
       "21               0.314922                    X32\n",
       "17               0.303303                    X28\n",
       "9                0.284612                    X14\n",
       "14               0.240910                    X22\n",
       "22               0.152875            day_of_loan\n",
       "10               0.140611                    X17\n",
       "7                0.104663                    X12\n",
       "24               0.080675    day of first credit\n",
       "4                0.080269                     X8\n",
       "16               0.041024                    X27\n",
       "19               0.030874                    X30\n",
       "20               0.016897                    X31\n",
       "13               0.013706                    X21\n",
       "6                0.008927                    X11\n",
       "23               0.008564          month_of_loan\n",
       "26               0.003517   year of first credit\n",
       "25               0.001387  month of first credit\n",
       "12               0.000296                    X20\n",
       "0                0.000160                     X4\n",
       "2                0.000111                     X6\n",
       "1                0.000055                     X5\n",
       "11               0.000035                    X19\n",
       "18               0.000008                    X29\n",
       "8                0.000002                    X13"
      ]
     },
     "execution_count": 128,
     "metadata": {},
     "output_type": "execute_result"
    }
   ],
   "source": [
    "imp_features = pd.DataFrame(X_train.columns,abs(ln.coef_)).reset_index().sort_values(by='index',ascending=False)\n",
    "imp_features.columns = ['Abs Coefficient Value','Column Name']\n",
    "imp_features"
   ]
  },
  {
   "cell_type": "markdown",
   "metadata": {},
   "source": [
    "#### Random Forest Regressor\n"
   ]
  },
  {
   "cell_type": "code",
   "execution_count": 143,
   "metadata": {},
   "outputs": [],
   "source": [
    "rf = RandomForestRegressor(n_estimators=100,random_state=0,n_jobs=-1)\n",
    "rf.fit(X_train,y_train)\n",
    "y_pred = rf.predict(X_test)"
   ]
  },
  {
   "cell_type": "code",
   "execution_count": 144,
   "metadata": {},
   "outputs": [
    {
     "name": "stdout",
     "output_type": "stream",
     "text": [
      "Model Score:  0.8331936657196132\n",
      "RMSE:  1.7961739879897427\n"
     ]
    }
   ],
   "source": [
    "from sklearn.metrics import mean_squared_error as MSE\n",
    "score = rf.score(X_test,y_test)\n",
    "print('Model Score: ', score)\n",
    "mse = MSE(y_test,y_pred)\n",
    "rmse = np.sqrt(mse)\n",
    "print('RMSE: ',rmse)"
   ]
  },
  {
   "cell_type": "code",
   "execution_count": 145,
   "metadata": {},
   "outputs": [
    {
     "data": {
      "text/html": [
       "<div>\n",
       "<style scoped>\n",
       "    .dataframe tbody tr th:only-of-type {\n",
       "        vertical-align: middle;\n",
       "    }\n",
       "\n",
       "    .dataframe tbody tr th {\n",
       "        vertical-align: top;\n",
       "    }\n",
       "\n",
       "    .dataframe thead th {\n",
       "        text-align: right;\n",
       "    }\n",
       "</style>\n",
       "<table border=\"1\" class=\"dataframe\">\n",
       "  <thead>\n",
       "    <tr style=\"text-align: right;\">\n",
       "      <th></th>\n",
       "      <th>Feature Importance</th>\n",
       "      <th>Column Name</th>\n",
       "    </tr>\n",
       "  </thead>\n",
       "  <tbody>\n",
       "    <tr>\n",
       "      <th>5</th>\n",
       "      <td>0.683006</td>\n",
       "      <td>X9</td>\n",
       "    </tr>\n",
       "    <tr>\n",
       "      <th>19</th>\n",
       "      <td>0.038923</td>\n",
       "      <td>X30</td>\n",
       "    </tr>\n",
       "    <tr>\n",
       "      <th>3</th>\n",
       "      <td>0.036799</td>\n",
       "      <td>X7</td>\n",
       "    </tr>\n",
       "    <tr>\n",
       "      <th>22</th>\n",
       "      <td>0.030039</td>\n",
       "      <td>day_of_loan</td>\n",
       "    </tr>\n",
       "    <tr>\n",
       "      <th>18</th>\n",
       "      <td>0.018591</td>\n",
       "      <td>X29</td>\n",
       "    </tr>\n",
       "    <tr>\n",
       "      <th>4</th>\n",
       "      <td>0.017127</td>\n",
       "      <td>X8</td>\n",
       "    </tr>\n",
       "    <tr>\n",
       "      <th>8</th>\n",
       "      <td>0.015147</td>\n",
       "      <td>X13</td>\n",
       "    </tr>\n",
       "    <tr>\n",
       "      <th>13</th>\n",
       "      <td>0.015044</td>\n",
       "      <td>X21</td>\n",
       "    </tr>\n",
       "    <tr>\n",
       "      <th>10</th>\n",
       "      <td>0.014722</td>\n",
       "      <td>X17</td>\n",
       "    </tr>\n",
       "    <tr>\n",
       "      <th>15</th>\n",
       "      <td>0.014240</td>\n",
       "      <td>X24</td>\n",
       "    </tr>\n",
       "    <tr>\n",
       "      <th>23</th>\n",
       "      <td>0.013254</td>\n",
       "      <td>month_of_loan</td>\n",
       "    </tr>\n",
       "    <tr>\n",
       "      <th>11</th>\n",
       "      <td>0.011883</td>\n",
       "      <td>X19</td>\n",
       "    </tr>\n",
       "    <tr>\n",
       "      <th>20</th>\n",
       "      <td>0.010903</td>\n",
       "      <td>X31</td>\n",
       "    </tr>\n",
       "    <tr>\n",
       "      <th>16</th>\n",
       "      <td>0.010378</td>\n",
       "      <td>X27</td>\n",
       "    </tr>\n",
       "    <tr>\n",
       "      <th>2</th>\n",
       "      <td>0.008007</td>\n",
       "      <td>X6</td>\n",
       "    </tr>\n",
       "    <tr>\n",
       "      <th>12</th>\n",
       "      <td>0.007901</td>\n",
       "      <td>X20</td>\n",
       "    </tr>\n",
       "    <tr>\n",
       "      <th>26</th>\n",
       "      <td>0.007283</td>\n",
       "      <td>year of first credit</td>\n",
       "    </tr>\n",
       "    <tr>\n",
       "      <th>25</th>\n",
       "      <td>0.006827</td>\n",
       "      <td>month of first credit</td>\n",
       "    </tr>\n",
       "    <tr>\n",
       "      <th>0</th>\n",
       "      <td>0.006325</td>\n",
       "      <td>X4</td>\n",
       "    </tr>\n",
       "    <tr>\n",
       "      <th>1</th>\n",
       "      <td>0.006220</td>\n",
       "      <td>X5</td>\n",
       "    </tr>\n",
       "    <tr>\n",
       "      <th>6</th>\n",
       "      <td>0.005789</td>\n",
       "      <td>X11</td>\n",
       "    </tr>\n",
       "    <tr>\n",
       "      <th>24</th>\n",
       "      <td>0.005337</td>\n",
       "      <td>day of first credit</td>\n",
       "    </tr>\n",
       "    <tr>\n",
       "      <th>14</th>\n",
       "      <td>0.004544</td>\n",
       "      <td>X22</td>\n",
       "    </tr>\n",
       "    <tr>\n",
       "      <th>9</th>\n",
       "      <td>0.004000</td>\n",
       "      <td>X14</td>\n",
       "    </tr>\n",
       "    <tr>\n",
       "      <th>17</th>\n",
       "      <td>0.003231</td>\n",
       "      <td>X28</td>\n",
       "    </tr>\n",
       "    <tr>\n",
       "      <th>7</th>\n",
       "      <td>0.002892</td>\n",
       "      <td>X12</td>\n",
       "    </tr>\n",
       "    <tr>\n",
       "      <th>21</th>\n",
       "      <td>0.001590</td>\n",
       "      <td>X32</td>\n",
       "    </tr>\n",
       "  </tbody>\n",
       "</table>\n",
       "</div>"
      ],
      "text/plain": [
       "    Feature Importance            Column Name\n",
       "5             0.683006                     X9\n",
       "19            0.038923                    X30\n",
       "3             0.036799                     X7\n",
       "22            0.030039            day_of_loan\n",
       "18            0.018591                    X29\n",
       "4             0.017127                     X8\n",
       "8             0.015147                    X13\n",
       "13            0.015044                    X21\n",
       "10            0.014722                    X17\n",
       "15            0.014240                    X24\n",
       "23            0.013254          month_of_loan\n",
       "11            0.011883                    X19\n",
       "20            0.010903                    X31\n",
       "16            0.010378                    X27\n",
       "2             0.008007                     X6\n",
       "12            0.007901                    X20\n",
       "26            0.007283   year of first credit\n",
       "25            0.006827  month of first credit\n",
       "0             0.006325                     X4\n",
       "1             0.006220                     X5\n",
       "6             0.005789                    X11\n",
       "24            0.005337    day of first credit\n",
       "14            0.004544                    X22\n",
       "9             0.004000                    X14\n",
       "17            0.003231                    X28\n",
       "7             0.002892                    X12\n",
       "21            0.001590                    X32"
      ]
     },
     "execution_count": 145,
     "metadata": {},
     "output_type": "execute_result"
    }
   ],
   "source": [
    "imp_features = pd.DataFrame(X_train.columns,rf.feature_importances_).reset_index().sort_values(by='index',ascending=False)\n",
    "imp_features.columns = ['Feature Importance','Column Name']\n",
    "imp_features"
   ]
  },
  {
   "cell_type": "code",
   "execution_count": 146,
   "metadata": {},
   "outputs": [
    {
     "name": "stdout",
     "output_type": "stream",
     "text": [
      "[0.83362823 0.83061115 0.82544872 0.82838364 0.83202218 0.827472\n",
      " 0.83129811 0.82765118 0.82110368 0.83103803]\n",
      "mean CV score: 0.83\n"
     ]
    }
   ],
   "source": [
    "from sklearn.model_selection import cross_val_score\n",
    "\n",
    "CV_scores = cross_val_score(rf, X_train, y_train, cv=10, n_jobs=-1) \n",
    "\n",
    "print(CV_scores)\n",
    "\n",
    "print('mean CV score:', round(CV_scores.mean(),2))"
   ]
  },
  {
   "cell_type": "markdown",
   "metadata": {},
   "source": [
    "#### Gradient Boosting Regressor"
   ]
  },
  {
   "cell_type": "code",
   "execution_count": 133,
   "metadata": {},
   "outputs": [],
   "source": [
    "gb = GradientBoostingRegressor()\n",
    "gb.fit(X_train,y_train)\n",
    "y_pred = gb.predict(X_test)"
   ]
  },
  {
   "cell_type": "code",
   "execution_count": 134,
   "metadata": {},
   "outputs": [
    {
     "name": "stdout",
     "output_type": "stream",
     "text": [
      "Model Score:  0.8313491719298967\n",
      "RMSE:  1.9414334315544488\n"
     ]
    }
   ],
   "source": [
    "from sklearn.metrics import mean_squared_error as MSE\n",
    "score = rf.score(X_test,y_test)\n",
    "print('Model Score: ', score)\n",
    "mse = MSE(y_test,y_pred)\n",
    "rmse = np.sqrt(mse)\n",
    "print('RMSE: ',rmse)"
   ]
  },
  {
   "cell_type": "markdown",
   "metadata": {},
   "source": [
    "### Write Up for Final Model"
   ]
  },
  {
   "cell_type": "markdown",
   "metadata": {},
   "source": [
    "Once the data was cleaned, I looked at some relationships between the variables to see which variables were the most correlated with interest rates by looking at the heatmap from the correlation matrix. \n",
    "\n",
    "I first tried applying PCA with 20 components and ran the Linear Regression and Random Forest with the PCA, however, I got a RMSE value that was higher (2.33) than running the Linear Regression/Random Forest without the PCA. Thus, I proceeded with running Linear Regression, Random Forest, and Gradient Boosting without the PCA. \n",
    "\n",
    "In this case, Random Forest was giving be the most optimal results (lowest RMSE) out of the three models, so I decided to use Random Forest as my final model for the prediction. I also did some model tuning and changed some of the values for the n_estimators and selected 100 as my final value. While tuning the model I also looked at the feature importance list to see which features were the most important, and from there I went back and removed some features which I believed were poor predictors (X10 and X18).\n",
    "\n",
    "**Final Model selected is Random Forest Regressor.**"
   ]
  },
  {
   "cell_type": "code",
   "execution_count": 161,
   "metadata": {},
   "outputs": [],
   "source": [
    "final_model = rf"
   ]
  },
  {
   "cell_type": "markdown",
   "metadata": {},
   "source": [
    "### Applying Model on Holdout Set"
   ]
  },
  {
   "cell_type": "markdown",
   "metadata": {},
   "source": [
    "**The holdout set was cleaned using a different python workbook, which is also in the submission folder.**"
   ]
  },
  {
   "cell_type": "code",
   "execution_count": 162,
   "metadata": {},
   "outputs": [],
   "source": [
    "holdout_set = pd.read_csv('holdout_clean.csv')"
   ]
  },
  {
   "cell_type": "code",
   "execution_count": 163,
   "metadata": {},
   "outputs": [
    {
     "data": {
      "text/html": [
       "<div>\n",
       "<style scoped>\n",
       "    .dataframe tbody tr th:only-of-type {\n",
       "        vertical-align: middle;\n",
       "    }\n",
       "\n",
       "    .dataframe tbody tr th {\n",
       "        vertical-align: top;\n",
       "    }\n",
       "\n",
       "    .dataframe thead th {\n",
       "        text-align: right;\n",
       "    }\n",
       "</style>\n",
       "<table border=\"1\" class=\"dataframe\">\n",
       "  <thead>\n",
       "    <tr style=\"text-align: right;\">\n",
       "      <th></th>\n",
       "      <th>Unnamed: 0</th>\n",
       "      <th>X1</th>\n",
       "      <th>X4</th>\n",
       "      <th>X5</th>\n",
       "      <th>X6</th>\n",
       "      <th>X7</th>\n",
       "      <th>X8</th>\n",
       "      <th>X9</th>\n",
       "      <th>X10</th>\n",
       "      <th>X11</th>\n",
       "      <th>...</th>\n",
       "      <th>X28</th>\n",
       "      <th>X29</th>\n",
       "      <th>X30</th>\n",
       "      <th>X31</th>\n",
       "      <th>X32</th>\n",
       "      <th>day_of_loan</th>\n",
       "      <th>month_of_loan</th>\n",
       "      <th>day of first credit</th>\n",
       "      <th>month of first credit</th>\n",
       "      <th>year of first credit</th>\n",
       "    </tr>\n",
       "  </thead>\n",
       "  <tbody>\n",
       "    <tr>\n",
       "      <th>0</th>\n",
       "      <td>0</td>\n",
       "      <td>NaN</td>\n",
       "      <td>6000.0</td>\n",
       "      <td>6000.0</td>\n",
       "      <td>6000.0</td>\n",
       "      <td>0</td>\n",
       "      <td>2</td>\n",
       "      <td>14</td>\n",
       "      <td>12</td>\n",
       "      <td>1</td>\n",
       "      <td>...</td>\n",
       "      <td>0</td>\n",
       "      <td>19861</td>\n",
       "      <td>64.5</td>\n",
       "      <td>33</td>\n",
       "      <td>0</td>\n",
       "      <td>15</td>\n",
       "      <td>3</td>\n",
       "      <td>2</td>\n",
       "      <td>11</td>\n",
       "      <td>2019</td>\n",
       "    </tr>\n",
       "    <tr>\n",
       "      <th>1</th>\n",
       "      <td>1</td>\n",
       "      <td>NaN</td>\n",
       "      <td>24000.0</td>\n",
       "      <td>24000.0</td>\n",
       "      <td>24000.0</td>\n",
       "      <td>0</td>\n",
       "      <td>0</td>\n",
       "      <td>0</td>\n",
       "      <td>4</td>\n",
       "      <td>8</td>\n",
       "      <td>...</td>\n",
       "      <td>0</td>\n",
       "      <td>17001</td>\n",
       "      <td>26.2</td>\n",
       "      <td>36</td>\n",
       "      <td>1</td>\n",
       "      <td>15</td>\n",
       "      <td>3</td>\n",
       "      <td>1</td>\n",
       "      <td>12</td>\n",
       "      <td>2068</td>\n",
       "    </tr>\n",
       "    <tr>\n",
       "      <th>2</th>\n",
       "      <td>2</td>\n",
       "      <td>NaN</td>\n",
       "      <td>35000.0</td>\n",
       "      <td>35000.0</td>\n",
       "      <td>35000.0</td>\n",
       "      <td>0</td>\n",
       "      <td>2</td>\n",
       "      <td>11</td>\n",
       "      <td>18</td>\n",
       "      <td>1</td>\n",
       "      <td>...</td>\n",
       "      <td>0</td>\n",
       "      <td>25797</td>\n",
       "      <td>49.9</td>\n",
       "      <td>33</td>\n",
       "      <td>1</td>\n",
       "      <td>15</td>\n",
       "      <td>3</td>\n",
       "      <td>1</td>\n",
       "      <td>10</td>\n",
       "      <td>1998</td>\n",
       "    </tr>\n",
       "    <tr>\n",
       "      <th>3</th>\n",
       "      <td>3</td>\n",
       "      <td>NaN</td>\n",
       "      <td>10000.0</td>\n",
       "      <td>10000.0</td>\n",
       "      <td>10000.0</td>\n",
       "      <td>1</td>\n",
       "      <td>3</td>\n",
       "      <td>15</td>\n",
       "      <td>18</td>\n",
       "      <td>1</td>\n",
       "      <td>...</td>\n",
       "      <td>1</td>\n",
       "      <td>9586</td>\n",
       "      <td>43.8</td>\n",
       "      <td>21</td>\n",
       "      <td>1</td>\n",
       "      <td>15</td>\n",
       "      <td>3</td>\n",
       "      <td>1</td>\n",
       "      <td>2</td>\n",
       "      <td>1999</td>\n",
       "    </tr>\n",
       "    <tr>\n",
       "      <th>4</th>\n",
       "      <td>4</td>\n",
       "      <td>NaN</td>\n",
       "      <td>24000.0</td>\n",
       "      <td>24000.0</td>\n",
       "      <td>24000.0</td>\n",
       "      <td>1</td>\n",
       "      <td>1</td>\n",
       "      <td>5</td>\n",
       "      <td>18</td>\n",
       "      <td>1</td>\n",
       "      <td>...</td>\n",
       "      <td>0</td>\n",
       "      <td>31842</td>\n",
       "      <td>41.3</td>\n",
       "      <td>43</td>\n",
       "      <td>1</td>\n",
       "      <td>15</td>\n",
       "      <td>3</td>\n",
       "      <td>2</td>\n",
       "      <td>12</td>\n",
       "      <td>2019</td>\n",
       "    </tr>\n",
       "  </tbody>\n",
       "</table>\n",
       "<p>5 rows × 31 columns</p>\n",
       "</div>"
      ],
      "text/plain": [
       "   Unnamed: 0  X1       X4       X5       X6  X7  X8  X9  X10  X11  \\\n",
       "0           0 NaN   6000.0   6000.0   6000.0   0   2  14   12    1   \n",
       "1           1 NaN  24000.0  24000.0  24000.0   0   0   0    4    8   \n",
       "2           2 NaN  35000.0  35000.0  35000.0   0   2  11   18    1   \n",
       "3           3 NaN  10000.0  10000.0  10000.0   1   3  15   18    1   \n",
       "4           4 NaN  24000.0  24000.0  24000.0   1   1   5   18    1   \n",
       "\n",
       "           ...           X28    X29   X30  X31  X32  day_of_loan  \\\n",
       "0          ...             0  19861  64.5   33    0           15   \n",
       "1          ...             0  17001  26.2   36    1           15   \n",
       "2          ...             0  25797  49.9   33    1           15   \n",
       "3          ...             1   9586  43.8   21    1           15   \n",
       "4          ...             0  31842  41.3   43    1           15   \n",
       "\n",
       "   month_of_loan  day of first credit  month of first credit  \\\n",
       "0              3                    2                     11   \n",
       "1              3                    1                     12   \n",
       "2              3                    1                     10   \n",
       "3              3                    1                      2   \n",
       "4              3                    2                     12   \n",
       "\n",
       "   year of first credit  \n",
       "0                  2019  \n",
       "1                  2068  \n",
       "2                  1998  \n",
       "3                  1999  \n",
       "4                  2019  \n",
       "\n",
       "[5 rows x 31 columns]"
      ]
     },
     "execution_count": 163,
     "metadata": {},
     "output_type": "execute_result"
    }
   ],
   "source": [
    "holdout_set.head()"
   ]
  },
  {
   "cell_type": "code",
   "execution_count": 164,
   "metadata": {},
   "outputs": [],
   "source": [
    "holdout_set = holdout_set.drop(holdout_set.columns[0], axis=1)"
   ]
  },
  {
   "cell_type": "code",
   "execution_count": 165,
   "metadata": {},
   "outputs": [],
   "source": [
    "holdout_set.drop(['X1','X10','X18'],axis=1,inplace=True)"
   ]
  },
  {
   "cell_type": "code",
   "execution_count": 166,
   "metadata": {},
   "outputs": [
    {
     "data": {
      "text/html": [
       "<div>\n",
       "<style scoped>\n",
       "    .dataframe tbody tr th:only-of-type {\n",
       "        vertical-align: middle;\n",
       "    }\n",
       "\n",
       "    .dataframe tbody tr th {\n",
       "        vertical-align: top;\n",
       "    }\n",
       "\n",
       "    .dataframe thead th {\n",
       "        text-align: right;\n",
       "    }\n",
       "</style>\n",
       "<table border=\"1\" class=\"dataframe\">\n",
       "  <thead>\n",
       "    <tr style=\"text-align: right;\">\n",
       "      <th></th>\n",
       "      <th>X4</th>\n",
       "      <th>X5</th>\n",
       "      <th>X6</th>\n",
       "      <th>X7</th>\n",
       "      <th>X8</th>\n",
       "      <th>X9</th>\n",
       "      <th>X11</th>\n",
       "      <th>X12</th>\n",
       "      <th>X13</th>\n",
       "      <th>X14</th>\n",
       "      <th>...</th>\n",
       "      <th>X28</th>\n",
       "      <th>X29</th>\n",
       "      <th>X30</th>\n",
       "      <th>X31</th>\n",
       "      <th>X32</th>\n",
       "      <th>day_of_loan</th>\n",
       "      <th>month_of_loan</th>\n",
       "      <th>day of first credit</th>\n",
       "      <th>month of first credit</th>\n",
       "      <th>year of first credit</th>\n",
       "    </tr>\n",
       "  </thead>\n",
       "  <tbody>\n",
       "    <tr>\n",
       "      <th>0</th>\n",
       "      <td>6000.0</td>\n",
       "      <td>6000.0</td>\n",
       "      <td>6000.0</td>\n",
       "      <td>0</td>\n",
       "      <td>2</td>\n",
       "      <td>14</td>\n",
       "      <td>1</td>\n",
       "      <td>0</td>\n",
       "      <td>68000.0</td>\n",
       "      <td>0</td>\n",
       "      <td>...</td>\n",
       "      <td>0</td>\n",
       "      <td>19861</td>\n",
       "      <td>64.5</td>\n",
       "      <td>33</td>\n",
       "      <td>0</td>\n",
       "      <td>15</td>\n",
       "      <td>3</td>\n",
       "      <td>2</td>\n",
       "      <td>11</td>\n",
       "      <td>2019</td>\n",
       "    </tr>\n",
       "    <tr>\n",
       "      <th>1</th>\n",
       "      <td>24000.0</td>\n",
       "      <td>24000.0</td>\n",
       "      <td>24000.0</td>\n",
       "      <td>0</td>\n",
       "      <td>0</td>\n",
       "      <td>0</td>\n",
       "      <td>8</td>\n",
       "      <td>2</td>\n",
       "      <td>110480.0</td>\n",
       "      <td>0</td>\n",
       "      <td>...</td>\n",
       "      <td>0</td>\n",
       "      <td>17001</td>\n",
       "      <td>26.2</td>\n",
       "      <td>36</td>\n",
       "      <td>1</td>\n",
       "      <td>15</td>\n",
       "      <td>3</td>\n",
       "      <td>1</td>\n",
       "      <td>12</td>\n",
       "      <td>2068</td>\n",
       "    </tr>\n",
       "    <tr>\n",
       "      <th>2</th>\n",
       "      <td>35000.0</td>\n",
       "      <td>35000.0</td>\n",
       "      <td>35000.0</td>\n",
       "      <td>0</td>\n",
       "      <td>2</td>\n",
       "      <td>11</td>\n",
       "      <td>1</td>\n",
       "      <td>0</td>\n",
       "      <td>86000.0</td>\n",
       "      <td>0</td>\n",
       "      <td>...</td>\n",
       "      <td>0</td>\n",
       "      <td>25797</td>\n",
       "      <td>49.9</td>\n",
       "      <td>33</td>\n",
       "      <td>1</td>\n",
       "      <td>15</td>\n",
       "      <td>3</td>\n",
       "      <td>1</td>\n",
       "      <td>10</td>\n",
       "      <td>1998</td>\n",
       "    </tr>\n",
       "    <tr>\n",
       "      <th>3</th>\n",
       "      <td>10000.0</td>\n",
       "      <td>10000.0</td>\n",
       "      <td>10000.0</td>\n",
       "      <td>1</td>\n",
       "      <td>3</td>\n",
       "      <td>15</td>\n",
       "      <td>1</td>\n",
       "      <td>2</td>\n",
       "      <td>30000.0</td>\n",
       "      <td>1</td>\n",
       "      <td>...</td>\n",
       "      <td>1</td>\n",
       "      <td>9586</td>\n",
       "      <td>43.8</td>\n",
       "      <td>21</td>\n",
       "      <td>1</td>\n",
       "      <td>15</td>\n",
       "      <td>3</td>\n",
       "      <td>1</td>\n",
       "      <td>2</td>\n",
       "      <td>1999</td>\n",
       "    </tr>\n",
       "    <tr>\n",
       "      <th>4</th>\n",
       "      <td>24000.0</td>\n",
       "      <td>24000.0</td>\n",
       "      <td>24000.0</td>\n",
       "      <td>1</td>\n",
       "      <td>1</td>\n",
       "      <td>5</td>\n",
       "      <td>1</td>\n",
       "      <td>0</td>\n",
       "      <td>82500.0</td>\n",
       "      <td>0</td>\n",
       "      <td>...</td>\n",
       "      <td>0</td>\n",
       "      <td>31842</td>\n",
       "      <td>41.3</td>\n",
       "      <td>43</td>\n",
       "      <td>1</td>\n",
       "      <td>15</td>\n",
       "      <td>3</td>\n",
       "      <td>2</td>\n",
       "      <td>12</td>\n",
       "      <td>2019</td>\n",
       "    </tr>\n",
       "  </tbody>\n",
       "</table>\n",
       "<p>5 rows × 27 columns</p>\n",
       "</div>"
      ],
      "text/plain": [
       "        X4       X5       X6  X7  X8  X9  X11  X12       X13  X14  \\\n",
       "0   6000.0   6000.0   6000.0   0   2  14    1    0   68000.0    0   \n",
       "1  24000.0  24000.0  24000.0   0   0   0    8    2  110480.0    0   \n",
       "2  35000.0  35000.0  35000.0   0   2  11    1    0   86000.0    0   \n",
       "3  10000.0  10000.0  10000.0   1   3  15    1    2   30000.0    1   \n",
       "4  24000.0  24000.0  24000.0   1   1   5    1    0   82500.0    0   \n",
       "\n",
       "           ...           X28    X29   X30  X31  X32  day_of_loan  \\\n",
       "0          ...             0  19861  64.5   33    0           15   \n",
       "1          ...             0  17001  26.2   36    1           15   \n",
       "2          ...             0  25797  49.9   33    1           15   \n",
       "3          ...             1   9586  43.8   21    1           15   \n",
       "4          ...             0  31842  41.3   43    1           15   \n",
       "\n",
       "   month_of_loan  day of first credit  month of first credit  \\\n",
       "0              3                    2                     11   \n",
       "1              3                    1                     12   \n",
       "2              3                    1                     10   \n",
       "3              3                    1                      2   \n",
       "4              3                    2                     12   \n",
       "\n",
       "   year of first credit  \n",
       "0                  2019  \n",
       "1                  2068  \n",
       "2                  1998  \n",
       "3                  1999  \n",
       "4                  2019  \n",
       "\n",
       "[5 rows x 27 columns]"
      ]
     },
     "execution_count": 166,
     "metadata": {},
     "output_type": "execute_result"
    }
   ],
   "source": [
    "holdout_set.head()"
   ]
  },
  {
   "cell_type": "code",
   "execution_count": 167,
   "metadata": {},
   "outputs": [],
   "source": [
    "holdout_predictions = final_model.predict(holdout_set)"
   ]
  },
  {
   "cell_type": "code",
   "execution_count": 168,
   "metadata": {},
   "outputs": [
    {
     "data": {
      "text/plain": [
       "array([15.7221,  6.2638, 15.1646, ..., 10.1027, 14.8918, 13.5977])"
      ]
     },
     "execution_count": 168,
     "metadata": {},
     "output_type": "execute_result"
    }
   ],
   "source": [
    "holdout_predictions"
   ]
  },
  {
   "cell_type": "code",
   "execution_count": 169,
   "metadata": {},
   "outputs": [],
   "source": [
    "holdout_final_set = pd.read_csv('Holdout for Testing.csv')"
   ]
  },
  {
   "cell_type": "code",
   "execution_count": 170,
   "metadata": {},
   "outputs": [],
   "source": [
    "holdout_final_set['X1'] = holdout_predictions"
   ]
  },
  {
   "cell_type": "code",
   "execution_count": 171,
   "metadata": {},
   "outputs": [],
   "source": [
    "holdout_final_set = holdout_final_set[['X1','X2','X3']]"
   ]
  },
  {
   "cell_type": "code",
   "execution_count": 172,
   "metadata": {},
   "outputs": [],
   "source": [
    "holdout_final_set.to_csv('loan_results_chiraagk.csv',index=False)"
   ]
  }
 ],
 "metadata": {
  "kernelspec": {
   "display_name": "Python 3",
   "language": "python",
   "name": "python3"
  },
  "language_info": {
   "codemirror_mode": {
    "name": "ipython",
    "version": 3
   },
   "file_extension": ".py",
   "mimetype": "text/x-python",
   "name": "python",
   "nbconvert_exporter": "python",
   "pygments_lexer": "ipython3",
   "version": "3.6.8"
  }
 },
 "nbformat": 4,
 "nbformat_minor": 2
}
